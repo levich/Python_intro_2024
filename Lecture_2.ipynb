{
  "cells": [
    {
      "cell_type": "markdown",
      "metadata": {
        "id": "MvjKDalaISGI"
      },
      "source": [
        "## Python-1, Лекция 2\n",
        "\n"
      ]
    },
    {
      "cell_type": "markdown",
      "metadata": {
        "id": "TLiKHi_0IYCm"
      },
      "source": [
        "Итак, сегодня мы поговорим про циклы, условия, контекстный менеджер, а также еще немного про ввод-вывод из файла"
      ]
    },
    {
      "cell_type": "markdown",
      "metadata": {
        "id": "x_wsFhcdI1GU"
      },
      "source": [
        "### Циклы и условия"
      ]
    },
    {
      "cell_type": "markdown",
      "metadata": {
        "id": "13pzrwMKI3pk"
      },
      "source": [
        "Скорее всего в других ЯП вы сталкивались с классическими циклами и условиями:\n",
        "\n",
        "* if-else: если верно условие, то сделай одно, иначе сделай другое\n",
        "\n",
        "* while: пока верно условие, делай вот это\n",
        "\n",
        "* for: для каждого значения совершай действия\n",
        "\n",
        "В целом синтаксис Python не особо отличается от других ЯП в этом плане, но давайте глянем"
      ]
    },
    {
      "cell_type": "markdown",
      "metadata": {
        "id": "5TL3Z4SwJfFt"
      },
      "source": [
        "#### If-else"
      ]
    },
    {
      "cell_type": "markdown",
      "metadata": {
        "id": "8ttX7CPpF8Wr"
      },
      "source": [
        "Синтаксис следующий:\n",
        "\n",
        "```\n",
        "if <condition>:\n",
        "    <actions>\n",
        "else:\n",
        "    <actions>\n",
        "```"
      ]
    },
    {
      "cell_type": "markdown",
      "metadata": {
        "id": "O7KOKreCJg6o"
      },
      "source": [
        "Давайте на примере какой-нибудь простой задачи.\n",
        "\n",
        "Умный Петя придумал занимательную игру: если число делится на 3, то его надо умножить на 2 и прибавить 1. Если число делится на 5, то нужно вычесть 2 из числа. Если число делится на 7, то тогда надо взять от него остаток при делении на 15. В случае, если число делится на несколько делителей (например, на 3 и на 5), то тогда выполняется операция по самому наименьшему делителю. В случае, если число ни на что не делится, то тогда с ним ничего не происходит.\n",
        "\n",
        "Петя захотел сделать программу, которая выполняет эти нехитрые операции. Помогите ему это сделать"
      ]
    },
    {
      "cell_type": "markdown",
      "metadata": {
        "id": "XZRYRSlnKa1F"
      },
      "source": [
        "Тут видно, что нужно применять условия (деление на 3, на 5 и на 7). Давайте пробовать с помощью if-else:"
      ]
    },
    {
      "cell_type": "code",
      "execution_count": 41,
      "metadata": {
        "colab": {
          "base_uri": "https://localhost:8080/"
        },
        "id": "EpCNTZqBHXlT",
        "outputId": "2ea25797-1d3a-4afb-a1c3-2b94653618b2"
      },
      "outputs": [
        {
          "name": "stdout",
          "output_type": "stream",
          "text": [
            "31\n"
          ]
        }
      ],
      "source": [
        "a = int(input(\"Введите число:\"))\n",
        "\n",
        "if (a % 3) == 0:\n",
        "    a *= 2\n",
        "    a += 1\n",
        "else:\n",
        "    if (a % 5) == 0:\n",
        "        a -= 2\n",
        "    else:\n",
        "        if (a % 7) == 0:\n",
        "            a %= 15\n",
        "print(a)"
      ]
    },
    {
      "cell_type": "markdown",
      "metadata": {
        "id": "nmRP6sgoK3wl"
      },
      "source": [
        "Вуаля, что-то получилось! Но выглядит немного громоздко: if-else заставляет постоянно делать переносы, такую программу читать сложнее.\n",
        "\n",
        "Но на это есть решение! Называется elif (else + if), он позволяет сделать несколько условий. Как это работает:\n",
        "\n",
        "```\n",
        "if condition_1: #если выполняется первое условие\n",
        "    <actions_1> #сделай вот это, если будет condition_1\n",
        "elif condition_2: #если первое не выполняется, то проверяем на второе\n",
        "    <actions_2> #сделай вот это, если будет condition_2\n",
        "else: # если оба условия неверны\n",
        "    <actions_3> # делай вот это\n",
        "```"
      ]
    },
    {
      "cell_type": "markdown",
      "metadata": {
        "id": "F72swojaLpQV"
      },
      "source": [
        "Попробуем переписать наш код:"
      ]
    },
    {
      "cell_type": "code",
      "execution_count": 5,
      "metadata": {
        "colab": {
          "base_uri": "https://localhost:8080/"
        },
        "id": "UKxtDAnjLoVU",
        "outputId": "720e3693-371d-4b80-f5b0-0c5019e16810"
      },
      "outputs": [
        {
          "name": "stdout",
          "output_type": "stream",
          "text": [
            "4\n"
          ]
        }
      ],
      "source": [
        "a = int(input(\"Введите число:\"))\n",
        "\n",
        "if (a % 3) == 0:\n",
        "    a *= 2\n",
        "    a += 1\n",
        "elif (a % 5) == 0:\n",
        "    a -= 2\n",
        "elif (a % 7) == 0:\n",
        "    a %= 15\n",
        "\n",
        "print(a)"
      ]
    },
    {
      "cell_type": "markdown",
      "metadata": {
        "id": "PlmWtVUcL1JR"
      },
      "source": [
        "Ура, выглядит гораздо проще и лучше!\n",
        "\n",
        "А теперь давайте попробуем вот такой пример:\n",
        "\n",
        "По введенной стране вывести ее столицу (допустим, что словарей мы не знаем, поэтмоу будем придумывать новые способы)\n",
        "\n",
        "Решим задачу с помощью if-else:"
      ]
    },
    {
      "cell_type": "code",
      "execution_count": 6,
      "metadata": {
        "colab": {
          "base_uri": "https://localhost:8080/"
        },
        "id": "Ekn_tNtyRm0l",
        "outputId": "44812d11-448b-4add-9ffd-b856537ddd12"
      },
      "outputs": [
        {
          "name": "stdout",
          "output_type": "stream",
          "text": [
            "Moscow\n"
          ]
        }
      ],
      "source": [
        "c = input(\"Enter any country:\")\n",
        "if c == \"Russia\":\n",
        "    print(\"Moscow\")\n",
        "elif c == \"UK\":\n",
        "    print(\"London is the capital of Great Britain\")\n",
        "elif c == \"USA\":\n",
        "    print(\"My pronouns are U-S-A! 🦅\")\n",
        "    print(\"Washington\")\n",
        "else:\n",
        "    print(\"No lo se...\")"
      ]
    },
    {
      "cell_type": "markdown",
      "metadata": {
        "id": "i3Tc8NoMSHI5"
      },
      "source": [
        "Выглядит неплохо, однако каждый раз писать условие равенства... А давайте проще сделаем! Для этого есть такая вещь как match-case (появилась только в версии Python 3.10):"
      ]
    },
    {
      "cell_type": "code",
      "execution_count": 7,
      "metadata": {
        "colab": {
          "base_uri": "https://localhost:8080/"
        },
        "id": "lVOQUEl5SGqf",
        "outputId": "9936521c-0e46-485c-f3e0-61ac75f6770d"
      },
      "outputs": [
        {
          "name": "stdout",
          "output_type": "stream",
          "text": [
            "Moscow\n"
          ]
        }
      ],
      "source": [
        "c = input(\"Enter any country:\")\n",
        "match c:\n",
        "    case \"Russia\":\n",
        "        print(\"Moscow\")\n",
        "    case \"UK\":\n",
        "        print(\"London is the capital of Great Britain\")\n",
        "    case \"USA\":\n",
        "        print(\"My pronouns are U-S-A! 🦅\")\n",
        "        print(\"Washington\")\n",
        "    case _: ## обозначает else как все остальное\n",
        "        print(\"No lo se...\")"
      ]
    },
    {
      "cell_type": "markdown",
      "metadata": {
        "id": "3BXIW9t-Swry"
      },
      "source": [
        "Интересная штука, но так ее не так давно ввели, то вы ее редко увидите"
      ]
    },
    {
      "cell_type": "markdown",
      "metadata": {
        "id": "hqKOOk1dF3wg"
      },
      "source": [
        "#### While"
      ]
    },
    {
      "cell_type": "markdown",
      "metadata": {
        "id": "WWJTqPFmF6xb"
      },
      "source": [
        "While - это уже цикл (то есть может выполняться несколько раз). В данном случае мы выполняем до тех пор, пока условие, которые мы задали, не станет ложным\n",
        "\n",
        "Синтаксис:\n",
        "\n",
        "```\n",
        "while <condition>:\n",
        "    <actions>\n",
        "```\n",
        "\n",
        "То есть делай, пока можно. Когда нельзя - перестань. Давайте на примере:"
      ]
    },
    {
      "cell_type": "markdown",
      "metadata": {
        "id": "am5kZ2FIGaD2"
      },
      "source": [
        "Умному Пете понравился наш код, но он захотел сделать добавление к своей игре: он хочет, чтобы действия выполнялись до тех пор, пока число, пока число не будет делиться на 13 или пока мы не перестанем его менять. Помогите Пете усовершенствовать алгоритм"
      ]
    },
    {
      "cell_type": "markdown",
      "metadata": {
        "id": "BfjRvkfiGyIl"
      },
      "source": [
        "Итак, то есть нам необходимо менять число до тех пор, пока либо оно не будет не делиться на все вышеуказанные делители (то есть 3,5 и 7) или пока оно не станет делиться на 13. Давайте пробовать вначале с делением:"
      ]
    },
    {
      "cell_type": "code",
      "execution_count": 43,
      "metadata": {
        "colab": {
          "base_uri": "https://localhost:8080/",
          "height": 279
        },
        "id": "VdqVrMm0HFjd",
        "outputId": "1e50e621-bf99-46ff-a6e7-57616eedd010"
      },
      "outputs": [
        {
          "ename": "KeyboardInterrupt",
          "evalue": "",
          "output_type": "error",
          "traceback": [
            "\u001b[0;31m---------------------------------------------------------------------------\u001b[0m",
            "\u001b[0;31mKeyboardInterrupt\u001b[0m                         Traceback (most recent call last)",
            "Cell \u001b[0;32mIn[43], line 3\u001b[0m\n\u001b[1;32m      1\u001b[0m a \u001b[38;5;241m=\u001b[39m \u001b[38;5;28mint\u001b[39m(\u001b[38;5;28minput\u001b[39m(\u001b[38;5;124m\"\u001b[39m\u001b[38;5;124mВведите число:\u001b[39m\u001b[38;5;124m\"\u001b[39m))\n\u001b[0;32m----> 3\u001b[0m \u001b[38;5;28;01mwhile\u001b[39;00m (a \u001b[38;5;241m%\u001b[39m \u001b[38;5;241m13\u001b[39m) \u001b[38;5;241m!=\u001b[39m \u001b[38;5;241m0\u001b[39m:\n\u001b[1;32m      4\u001b[0m     \u001b[38;5;28;01mif\u001b[39;00m (a \u001b[38;5;241m%\u001b[39m \u001b[38;5;241m3\u001b[39m) \u001b[38;5;241m==\u001b[39m \u001b[38;5;241m0\u001b[39m:\n\u001b[1;32m      5\u001b[0m         a \u001b[38;5;241m*\u001b[39m\u001b[38;5;241m=\u001b[39m \u001b[38;5;241m2\u001b[39m\n",
            "\u001b[0;31mKeyboardInterrupt\u001b[0m: "
          ]
        }
      ],
      "source": [
        "a = int(input(\"Введите число:\"))\n",
        "\n",
        "while (a % 13) != 0:\n",
        "    if (a % 3) == 0:\n",
        "        a *= 2\n",
        "        a += 1\n",
        "    elif (a % 5) == 0:\n",
        "        a -= 2\n",
        "    elif (a % 7) == 0:\n",
        "        a %= 15\n",
        "        a += 1\n",
        "\n",
        "print(a)"
      ]
    },
    {
      "cell_type": "markdown",
      "metadata": {
        "id": "50xlA5I1HjhS"
      },
      "source": [
        "Вроде бы все хорошо, но у нас нет условия, что ничего не изменилось... Как же его добавить?\n",
        "\n",
        "Для этого есть такие замечательные слова как continue или break. Как они работают?\n",
        "\n",
        "![](https://i.pinimg.com/736x/ef/48/cf/ef48cf48ec8fa615235c64a5e23ee731.jpg)"
      ]
    },
    {
      "cell_type": "code",
      "execution_count": 44,
      "metadata": {
        "colab": {
          "base_uri": "https://localhost:8080/"
        },
        "id": "ZJzDM5CcH5_i",
        "outputId": "606bc1a7-e7e6-41c3-e619-02da8a2ac441"
      },
      "outputs": [
        {
          "name": "stdout",
          "output_type": "stream",
          "text": [
            "26\n"
          ]
        }
      ],
      "source": [
        "a = int(input(\"Введите число:\"))\n",
        "\n",
        "while (a % 13) != 0:\n",
        "    if (a % 3) == 0:\n",
        "        a *= 2\n",
        "        a += 1\n",
        "    elif (a % 5) == 0:\n",
        "        a -= 2\n",
        "    elif (a % 7) == 0:\n",
        "        a %= 15\n",
        "        a += 1\n",
        "    else:\n",
        "        break\n",
        "\n",
        "print(a)"
      ]
    },
    {
      "cell_type": "markdown",
      "metadata": {
        "id": "QSmFKIOlIJQr"
      },
      "source": [
        "#### For"
      ]
    },
    {
      "cell_type": "markdown",
      "metadata": {
        "id": "hDV_zHtOIMVh"
      },
      "source": [
        "Все видели примерно вот такой синтаксис:\n",
        "\n",
        "```\n",
        "for i in range(0, 10):\n",
        "    <actions>\n",
        "```\n",
        "\n",
        "Что обозначает: \"для каждого i от 0 до 9 сделай что-то\". Если обобщить, то это будет как:\n",
        "\n",
        "\"Для каждого элемента сделай вот это\" (такая формулировка нам еще пригодится)\n",
        "\n",
        "Что вообще в таком случае происходит?\n",
        "\n",
        "Есть переменная i, в которой будет храниться значение. В каждом шаге цикла у нас i меняется от самого первого значения (0) до самого последнего значения (9):"
      ]
    },
    {
      "cell_type": "code",
      "execution_count": 45,
      "metadata": {
        "colab": {
          "base_uri": "https://localhost:8080/"
        },
        "id": "9IB-CmBTWI-4",
        "outputId": "64dd9cf9-97a7-418f-e507-f025c428bbed"
      },
      "outputs": [
        {
          "name": "stdout",
          "output_type": "stream",
          "text": [
            "0\n",
            "1\n",
            "2\n",
            "3\n",
            "4\n",
            "5\n",
            "6\n",
            "7\n",
            "8\n",
            "9\n"
          ]
        }
      ],
      "source": [
        "for i in range(0, 10):\n",
        "    print(i)"
      ]
    },
    {
      "cell_type": "markdown",
      "metadata": {
        "id": "vZyRd_xCWZvJ"
      },
      "source": [
        "Обратите внимание, что само i мы можем менять! Потому что каждый раз, когда мы заходим в for, значение обновляется (но так делать не надо, потому что это приводит к обфускации кода):"
      ]
    },
    {
      "cell_type": "code",
      "execution_count": 46,
      "metadata": {
        "colab": {
          "base_uri": "https://localhost:8080/"
        },
        "id": "EW9JTGPaWhmI",
        "outputId": "1c93b1d3-b60a-4245-9c67-6542b1b06bf6"
      },
      "outputs": [
        {
          "name": "stdout",
          "output_type": "stream",
          "text": [
            "10\n",
            "11\n",
            "12\n",
            "13\n",
            "14\n",
            "15\n",
            "16\n",
            "17\n",
            "18\n",
            "19\n"
          ]
        }
      ],
      "source": [
        "for i in range(0, 10):\n",
        "    i += 10\n",
        "    print(i)"
      ]
    },
    {
      "cell_type": "markdown",
      "metadata": {
        "id": "G_JTeLgjWqD8"
      },
      "source": [
        "Возвращаемся к Пете! Теперь он хочет знать, а какие значения получаться в итоге для всех четных чисел от 0 до 50. Давайте поможем ему!"
      ]
    },
    {
      "cell_type": "code",
      "execution_count": 15,
      "metadata": {
        "id": "Mu4Uhi8iWxVL"
      },
      "outputs": [
        {
          "name": "stdout",
          "output_type": "stream",
          "text": [
            "0 0\n",
            "2 2\n",
            "4 4\n",
            "6 13\n",
            "8 8\n",
            "10 8\n",
            "12 23\n",
            "14 31\n",
            "16 16\n",
            "18 37\n",
            "20 37\n",
            "22 22\n",
            "24 8\n",
            "26 26\n",
            "28 31\n",
            "30 61\n",
            "32 32\n",
            "34 34\n",
            "36 73\n",
            "38 38\n",
            "40 38\n",
            "42 83\n",
            "44 44\n",
            "46 46\n",
            "48 97\n",
            "50 97\n"
          ]
        }
      ],
      "source": [
        "for i in range(0, 51, 2):\n",
        "    a = i\n",
        "    while (a % 13) != 0:\n",
        "        if (a % 3) == 0:\n",
        "            a *= 2\n",
        "            a += 1\n",
        "        elif (a % 5) == 0:\n",
        "            a -= 2\n",
        "        elif (a % 7) == 0:\n",
        "            a %= 15\n",
        "            a += 1\n",
        "        else:\n",
        "            break\n",
        "    print(i, a)"
      ]
    },
    {
      "cell_type": "markdown",
      "metadata": {
        "id": "lgUYF2oMXCBZ"
      },
      "source": [
        "Вуаля! Давайте чуть-чуть посмотрим на range, что за зверь. Строго говоря это итератор (об этом мы поговорим на следующих лекциях). Он генерирует последовательность из чисел (можно соотнести с индексированием в списках и строках!)\n",
        "\n",
        "```\n",
        "range(beg, end, step) - выведи числа от числа beg до end (невключительно) с шагом step\n",
        "```"
      ]
    },
    {
      "cell_type": "code",
      "execution_count": 17,
      "metadata": {
        "colab": {
          "base_uri": "https://localhost:8080/"
        },
        "id": "O9QFWOhEXbbk",
        "outputId": "89b1275f-88ad-4dad-8ee7-e66654b537b1"
      },
      "outputs": [
        {
          "name": "stdout",
          "output_type": "stream",
          "text": [
            "[0, 2, 4, 6, 8, 10, 12, 14, 16, 18, 20, 22, 24, 26, 28, 30, 32, 34, 36, 38, 40, 42, 44, 46, 48]\n"
          ]
        }
      ],
      "source": [
        "print(list(range(0, 50, 2)))"
      ]
    },
    {
      "cell_type": "markdown",
      "metadata": {
        "id": "bwYIFbvfXgN_"
      },
      "source": [
        "Если говорить просто, то range предоставляет такой список, в котором мы и будем брать наши значения.\n",
        "\n",
        "А можно ли ходить не только по числам, но и как-нибудь еще? Конечно можно:"
      ]
    },
    {
      "cell_type": "code",
      "execution_count": 18,
      "metadata": {
        "colab": {
          "base_uri": "https://localhost:8080/"
        },
        "id": "eus_pEeDXq0l",
        "outputId": "2b116d3c-a041-46be-ac81-80d935e1fc6c"
      },
      "outputs": [
        {
          "name": "stdout",
          "output_type": "stream",
          "text": [
            "a\n",
            "b\n",
            "c\n",
            "d\n",
            "s\n",
            "Hello\n",
            "World\n"
          ]
        }
      ],
      "source": [
        "for i in \"abcds\":\n",
        "    print(i)\n",
        "\n",
        "for i in [\"Hello\", \"World\"]:\n",
        "    print(i)"
      ]
    },
    {
      "cell_type": "markdown",
      "metadata": {
        "id": "xFAUONrpX6-7"
      },
      "source": [
        "И последняя ремарка: так как for - это тоже цикл, то и слова continue и break действуют!"
      ]
    },
    {
      "cell_type": "code",
      "execution_count": 19,
      "metadata": {
        "colab": {
          "base_uri": "https://localhost:8080/"
        },
        "id": "iqepLQeyYAVL",
        "outputId": "cbde1dad-d8ed-47e2-f796-a7433fcc5fd4"
      },
      "outputs": [
        {
          "name": "stdout",
          "output_type": "stream",
          "text": [
            "0\n"
          ]
        }
      ],
      "source": [
        "for i in range(5):\n",
        "    print(i)\n",
        "    break\n",
        "    print(i + 1)"
      ]
    },
    {
      "cell_type": "code",
      "execution_count": 20,
      "metadata": {
        "colab": {
          "base_uri": "https://localhost:8080/"
        },
        "id": "omkH6ULaYH1C",
        "outputId": "b6049944-455b-414a-fd4a-f0841db8ec62"
      },
      "outputs": [
        {
          "name": "stdout",
          "output_type": "stream",
          "text": [
            "0\n",
            "1\n",
            "2\n",
            "3\n",
            "4\n"
          ]
        }
      ],
      "source": [
        "for i in range(5):\n",
        "    print(i)\n",
        "    continue\n",
        "    print(i + 1)"
      ]
    },
    {
      "cell_type": "markdown",
      "metadata": {
        "id": "vbfxurIkS_yb"
      },
      "source": [
        "И теперь еще немного про списки. Как бы нам легко и незайтеливо создать матрицу (то есть список списков)? Можно сделать с помощью операции умножения:"
      ]
    },
    {
      "cell_type": "code",
      "execution_count": 21,
      "metadata": {
        "colab": {
          "base_uri": "https://localhost:8080/"
        },
        "id": "u7WnpU8FTGCZ",
        "outputId": "da8d8208-c676-48d9-ab28-d613b9357aef"
      },
      "outputs": [
        {
          "name": "stdout",
          "output_type": "stream",
          "text": [
            "[[0, 0, 0, 0, 0], [0, 0, 0, 0, 0], [0, 0, 0, 0, 0], [0, 0, 0, 0, 0], [0, 0, 0, 0, 0]]\n"
          ]
        }
      ],
      "source": [
        "a = [[0] * 5] * 5\n",
        "print(a)"
      ]
    },
    {
      "cell_type": "code",
      "execution_count": 22,
      "metadata": {
        "colab": {
          "base_uri": "https://localhost:8080/"
        },
        "id": "b2bFJ-B9UBQc",
        "outputId": "08f0586d-989f-4edc-a053-9a42b5654e0e"
      },
      "outputs": [
        {
          "name": "stdout",
          "output_type": "stream",
          "text": [
            "[[5, 0, 0, 0, 0], [5, 0, 0, 0, 0], [5, 0, 0, 0, 0], [5, 0, 0, 0, 0], [5, 0, 0, 0, 0]]\n"
          ]
        }
      ],
      "source": [
        "a[0][0] = 5\n",
        "print(a)"
      ]
    },
    {
      "cell_type": "markdown",
      "metadata": {
        "id": "ZMgke1MeUGBX"
      },
      "source": [
        "Упс, а эту проблему мы видели в прошлый раз. Почему так происходит? На самом деле Python играет с вами в игры:"
      ]
    },
    {
      "cell_type": "code",
      "execution_count": 23,
      "metadata": {
        "colab": {
          "base_uri": "https://localhost:8080/"
        },
        "id": "5zacVIIFUeg2",
        "outputId": "1a3572e5-e7dc-4ce0-8c8e-f24129dc1077"
      },
      "outputs": [
        {
          "name": "stdout",
          "output_type": "stream",
          "text": [
            "4361230016\n",
            "4361230016\n",
            "4361230016\n",
            "4361230016\n",
            "4361230016\n"
          ]
        }
      ],
      "source": [
        "for b in a:\n",
        "    print(id(b)) ## позволяет понять расположение объекта"
      ]
    },
    {
      "cell_type": "markdown",
      "metadata": {
        "id": "cV3CA1TLUk2A"
      },
      "source": [
        "Что он делает? Берет и не создает реальные копии, а просто создает ссылки на одну и ту же ячейку памяти, потому поведение такое\n",
        "\n",
        "Что же делать в данном случае? А все просто: нужно делать с помощью for!"
      ]
    },
    {
      "cell_type": "code",
      "execution_count": 24,
      "metadata": {
        "colab": {
          "base_uri": "https://localhost:8080/"
        },
        "id": "SemtZYgUUzV6",
        "outputId": "dfcf880c-eb9c-405f-ac93-162cebb7a183"
      },
      "outputs": [
        {
          "name": "stdout",
          "output_type": "stream",
          "text": [
            "4360927232\n",
            "4361228864\n",
            "4501763328\n",
            "4501770624\n",
            "4501365504\n",
            "[[5, 0, 0, 0, 0], [0, 0, 0, 0, 0], [0, 0, 0, 0, 0], [0, 0, 0, 0, 0], [0, 0, 0, 0, 0]]\n"
          ]
        }
      ],
      "source": [
        "a = [[0] * 5 for _ in range(5)]\n",
        "for b in a:\n",
        "    print(id(b))\n",
        "\n",
        "a[0][0] = 5\n",
        "print(a)"
      ]
    },
    {
      "cell_type": "code",
      "execution_count": 47,
      "metadata": {},
      "outputs": [
        {
          "ename": "SyntaxError",
          "evalue": "invalid syntax (2586456271.py, line 1)",
          "output_type": "error",
          "traceback": [
            "\u001b[0;36m  Cell \u001b[0;32mIn[47], line 1\u001b[0;36m\u001b[0m\n\u001b[0;31m    print(i) for i in range(5)\u001b[0m\n\u001b[0m             ^\u001b[0m\n\u001b[0;31mSyntaxError\u001b[0m\u001b[0;31m:\u001b[0m invalid syntax\n"
          ]
        }
      ],
      "source": [
        "print(i) for i in range(5)"
      ]
    },
    {
      "cell_type": "markdown",
      "metadata": {
        "id": "2LIlST00VOTi"
      },
      "source": [
        "С помощью for мы делаем так, что он каждый раз создает новый массив. Но тогда возникает вопрос: а почему для первого умножения так не надо делать?\n",
        "\n",
        "Опять-таки это связано с тем, какой у нас **объект**: изменяемый или нет (и вот про это будет в следующий раз)\n",
        "\n",
        "Если коротко: если объект **неизменяемый**, то любая операция порождает новый элемент. Такой пример показателен:"
      ]
    },
    {
      "cell_type": "code",
      "execution_count": 25,
      "metadata": {
        "colab": {
          "base_uri": "https://localhost:8080/"
        },
        "id": "GnY46SrsWB1_",
        "outputId": "9a55a022-782d-462b-ad7a-ec3a5d13e7e8"
      },
      "outputs": [
        {
          "name": "stdout",
          "output_type": "stream",
          "text": [
            "4326890584\n",
            "4326890648\n"
          ]
        }
      ],
      "source": [
        "a = 1\n",
        "print(id(a))\n",
        "a += 2\n",
        "print(id(a))"
      ]
    },
    {
      "cell_type": "markdown",
      "metadata": {},
      "source": [
        "Также помните о кешировании чисел!"
      ]
    },
    {
      "cell_type": "code",
      "execution_count": 39,
      "metadata": {},
      "outputs": [
        {
          "name": "stdout",
          "output_type": "stream",
          "text": [
            "True\n",
            "False\n"
          ]
        },
        {
          "name": "stderr",
          "output_type": "stream",
          "text": [
            "<>:3: SyntaxWarning: \"is\" with a literal. Did you mean \"==\"?\n",
            "<>:4: SyntaxWarning: \"is\" with a literal. Did you mean \"==\"?\n",
            "<>:3: SyntaxWarning: \"is\" with a literal. Did you mean \"==\"?\n",
            "<>:4: SyntaxWarning: \"is\" with a literal. Did you mean \"==\"?\n",
            "/var/folders/mk/_1__m3mn3nl591qj12f0st5w0000gn/T/ipykernel_59292/2712382129.py:3: SyntaxWarning: \"is\" with a literal. Did you mean \"==\"?\n",
            "  print(a is 10)\n",
            "/var/folders/mk/_1__m3mn3nl591qj12f0st5w0000gn/T/ipykernel_59292/2712382129.py:4: SyntaxWarning: \"is\" with a literal. Did you mean \"==\"?\n",
            "  print(b is 300)\n"
          ]
        }
      ],
      "source": [
        "a = 10\n",
        "b = 300\n",
        "print(a is 10)\n",
        "print(b is 300)"
      ]
    },
    {
      "cell_type": "markdown",
      "metadata": {
        "id": "TQ69xxImpg6l"
      },
      "source": [
        "### Работа с файлами"
      ]
    },
    {
      "cell_type": "markdown",
      "metadata": {
        "id": "J3MTrCaYpsnt"
      },
      "source": [
        "Иногда нам необходимо работать с файлами, потому что мы не всегда все вводим с помощью input (в целом вещь понятная - данные нам могут прийти в виде какого-нибудь текстового файлика, экселя, и так далее)\n",
        "\n",
        "И это все дело надо бы уметь читать\n"
      ]
    },
    {
      "cell_type": "markdown",
      "metadata": {
        "id": "JLwISW3Fq8rX"
      },
      "source": [
        "Пойдем нелинейно: вначале научимся записывать файлы, а потом из них что-нибудь читать"
      ]
    },
    {
      "cell_type": "code",
      "execution_count": 72,
      "metadata": {
        "id": "3WnZqhDQoH87"
      },
      "outputs": [],
      "source": [
        "f = open(\"icantread.txt\", \"w\")\n",
        "# функция open состоит из двух аргументов:\n",
        "# 1 - сам файл (используем относительный путь файла)\n",
        "# 2 - mode (или же на что открываем файл)"
      ]
    },
    {
      "cell_type": "markdown",
      "metadata": {
        "id": "zacHBDR4rnPl"
      },
      "source": [
        "Какие есть моды?\n",
        "\n",
        "* r - читаем файл (если файла нет, выдаст ошибку)\n",
        "\n",
        "* w - записываем файл (если файла нет, то создаст, но если файл был и мы что-то запишем, то прошлое сотрется)\n",
        "\n",
        "* a - записываем файл, добавляем в конец (не трогая предыдущее)\n",
        "\n",
        "* b - бинарный файл (про это попозже)"
      ]
    },
    {
      "cell_type": "markdown",
      "metadata": {
        "id": "ZPNZ51DBx19i"
      },
      "source": [
        "#### Запись"
      ]
    },
    {
      "cell_type": "markdown",
      "metadata": {
        "id": "5dMOmIdaskBH"
      },
      "source": [
        "Давайте что-нибудь запишем"
      ]
    },
    {
      "cell_type": "code",
      "execution_count": 73,
      "metadata": {
        "id": "L9gJGu8rsmmn"
      },
      "outputs": [],
      "source": [
        "text = '''\n",
        "\n",
        "\n",
        "Lorem ipsum dolor sit amet, consectetur adipiscing elit, sed do eiusmod tempor incididunt ut labore et dolore magna aliqua.\n",
        "Ut enim ad minim veniam, quis nostrud exercitation ullamco laboris nisi ut aliquip ex ea commodo consequat.\n",
        "Duis aute irure dolor in reprehenderit in voluptate velit esse cillum dolore eu fugiat nulla pariatur.\n",
        "Excepteur sint occaecat cupidatat non proident, sunt in culpa qui officia deserunt mollit anim id est laborum.\n",
        "'''\n",
        "\n",
        "\n",
        "f.write(text) # с помощью write записываем\n",
        "f.close()"
      ]
    },
    {
      "cell_type": "code",
      "execution_count": 50,
      "metadata": {
        "colab": {
          "base_uri": "https://localhost:8080/"
        },
        "id": "6464N8cOtA61",
        "outputId": "9d006382-7bb4-4c26-bac7-8e84a60c02c8"
      },
      "outputs": [
        {
          "name": "stdout",
          "output_type": "stream",
          "text": [
            "\n",
            "Lorem ipsum dolor sit amet, consectetur adipiscing elit, sed do eiusmod tempor incididunt ut labore et dolore magna aliqua.\n",
            "Ut enim ad minim veniam, quis nostrud exercitation ullamco laboris nisi ut aliquip ex ea commodo consequat.\n",
            "Duis aute irure dolor in reprehenderit in voluptate velit esse cillum dolore eu fugiat nulla pariatur.\n",
            "Excepteur sint occaecat cupidatat non proident, sunt in culpa qui officia deserunt mollit anim id est laborum.\n"
          ]
        }
      ],
      "source": [
        "!cat icantread.txt #проверим через утилиту cat, есть ли там что-то"
      ]
    },
    {
      "cell_type": "markdown",
      "metadata": {
        "id": "NFNzv6hcy9L-"
      },
      "source": [
        "А еще умеем записывать с помощью print:"
      ]
    },
    {
      "cell_type": "code",
      "execution_count": 63,
      "metadata": {
        "id": "aCkZ0CbIzA9y"
      },
      "outputs": [],
      "source": [
        "print(\"fdgfdgfgfdgfd\", file=open(\"new_file.txt\", \"w\"))"
      ]
    },
    {
      "cell_type": "code",
      "execution_count": 64,
      "metadata": {
        "colab": {
          "base_uri": "https://localhost:8080/"
        },
        "id": "GPvtOTKZzB1g",
        "outputId": "56e70b56-8f30-4398-8ca2-7d604b467978"
      },
      "outputs": [
        {
          "name": "stdout",
          "output_type": "stream",
          "text": [
            "fdgfdgfgfdgfd\n"
          ]
        }
      ],
      "source": [
        "!cat new_file.txt"
      ]
    },
    {
      "cell_type": "markdown",
      "metadata": {
        "id": "rJ_hsiaVxzpe"
      },
      "source": [
        "#### Чтение"
      ]
    },
    {
      "cell_type": "code",
      "execution_count": 65,
      "metadata": {
        "colab": {
          "base_uri": "https://localhost:8080/",
          "height": 74
        },
        "id": "ztiF8fEDtHuU",
        "outputId": "43dc8386-fa39-45a7-ef57-566589d63619"
      },
      "outputs": [
        {
          "data": {
            "text/plain": [
              "'\\nLorem ipsum dolor sit amet, consectetur adipiscing elit, sed do eiusmod tempor incididunt ut labore et dolore magna aliqua.\\nUt enim ad minim veniam, quis nostrud exercitation ullamco laboris nisi ut aliquip ex ea commodo consequat.\\nDuis aute irure dolor in reprehenderit in voluptate velit esse cillum dolore eu fugiat nulla pariatur.\\nExcepteur sint occaecat cupidatat non proident, sunt in culpa qui officia deserunt mollit anim id est laborum.\\n'"
            ]
          },
          "execution_count": 65,
          "metadata": {},
          "output_type": "execute_result"
        }
      ],
      "source": [
        "f_new = open(\"icantread.txt\", 'r')\n",
        "f_new.read() #читаем файл"
      ]
    },
    {
      "cell_type": "markdown",
      "metadata": {
        "id": "0DFKDfL8t8EH"
      },
      "source": [
        "Давайте попробуем прочесть еще раз:"
      ]
    },
    {
      "cell_type": "code",
      "execution_count": 66,
      "metadata": {
        "colab": {
          "base_uri": "https://localhost:8080/",
          "height": 36
        },
        "id": "MsRgr4uWt7pr",
        "outputId": "4650f8a4-4079-4671-8222-d2f38415a8cd"
      },
      "outputs": [
        {
          "data": {
            "text/plain": [
              "''"
            ]
          },
          "execution_count": 66,
          "metadata": {},
          "output_type": "execute_result"
        }
      ],
      "source": [
        "f_new.read()"
      ]
    },
    {
      "cell_type": "markdown",
      "metadata": {
        "id": "4yJI1El2uA99"
      },
      "source": [
        "А почему ничего нет?\n",
        "\n"
      ]
    },
    {
      "cell_type": "markdown",
      "metadata": {
        "id": "aBc21O2FuNMs"
      },
      "source": [
        "Дело в том, что чтение работает следующим образом:\n",
        "\n",
        "Мы по сути создаем бегунок, который проходит по файлу и его считывает поэлементно, двигая этот бегунок. И любой вызов read считывает всю эту часть и остается в конце\n",
        "\n",
        "Поэтому если вызвать два раза подряд, то во второй раз вы ничего не прочтете (бегунок сейчас не умеет назад), беда"
      ]
    },
    {
      "cell_type": "markdown",
      "metadata": {
        "id": "eT3EpY7Hu4jM"
      },
      "source": [
        "Давайте научимся двигать бегунок так, как нам бы хотелось. За это отвечают:\n",
        "\n",
        "1. read(n) - прочитай n символов от места бегунка\n",
        "\n",
        "2. tell() - скажи, на каком мы сейчас символе\n",
        "\n",
        "3. seek(offset) - перейди на место offset относительно начала файла"
      ]
    },
    {
      "cell_type": "code",
      "execution_count": 67,
      "metadata": {
        "colab": {
          "base_uri": "https://localhost:8080/"
        },
        "id": "e0MLeS2Su89a",
        "outputId": "8671af80-5cc3-4ec9-fa65-e91c9553ac9e"
      },
      "outputs": [
        {
          "name": "stdout",
          "output_type": "stream",
          "text": [
            "0\n",
            "\n",
            "Lorem ips\n",
            "10\n",
            "5\n",
            "5\n",
            "m ipsum\n",
            "12\n"
          ]
        }
      ],
      "source": [
        "with open(\"icantread.txt\", \"r\") as f: # с помощью with можно отдельно открыть файл и использовать его только внутри цикла, после цикла файл закроется\n",
        "    print(f.tell())\n",
        "    print(f.read(10)) #прочитай не весь текст, а только первые 10 символов\n",
        "    print(f.tell()) # скажи, на какой месте сейчас наш бегунок\n",
        "    print(f.seek(5)) #возьми начало файла и сдвинься на 5 символов\n",
        "    print(f.tell())\n",
        "    print(f.read(7))\n",
        "    print(f.tell())"
      ]
    },
    {
      "cell_type": "markdown",
      "metadata": {
        "id": "C11PJlazxTUY"
      },
      "source": [
        "А как двигаться не относительно начала файла, а относительно текущего места?"
      ]
    },
    {
      "cell_type": "code",
      "execution_count": 34,
      "metadata": {
        "colab": {
          "base_uri": "https://localhost:8080/"
        },
        "id": "VJvvSkxFxZC_",
        "outputId": "09b63722-abae-4975-a7de-5f2bfbe49e8c"
      },
      "outputs": [
        {
          "name": "stdout",
          "output_type": "stream",
          "text": [
            "\n",
            "Lorem ips\n",
            "10\n",
            "5\n",
            "5\n"
          ]
        }
      ],
      "source": [
        "with open(\"icantread.txt\", \"r\") as f:\n",
        "    print(f.read(10))\n",
        "    print(f.tell())\n",
        "    print(f.seek(f.tell() - 5)) #можно передавать просто сам tell!\n",
        "    print(f.tell())"
      ]
    },
    {
      "cell_type": "markdown",
      "metadata": {
        "id": "gnm9rFrQtVsr"
      },
      "source": [
        "В чем еще видим проблему? В том, что у нас тут появились в качестве отдельных знаков перевод строки (вообще все такие знаки типа табов etc будут отображаться)\n",
        "\n",
        "А может попробуем по линиям прочитать?"
      ]
    },
    {
      "cell_type": "code",
      "execution_count": 74,
      "metadata": {
        "colab": {
          "base_uri": "https://localhost:8080/"
        },
        "id": "SFGRADzpthdx",
        "outputId": "c3e62d82-8956-4ef9-bb57-ffb7c3ab5358"
      },
      "outputs": [
        {
          "name": "stdout",
          "output_type": "stream",
          "text": [
            "\n",
            "------------------------------\n",
            "\n",
            "------------------------------\n",
            "\n",
            "------------------------------\n",
            "Lorem ipsum dolor sit amet, consectetur adipiscing elit, sed do eiusmod tempor incididunt ut labore et dolore magna aliqua.\n",
            "------------------------------\n",
            "Ut enim ad minim veniam, quis nostrud exercitation ullamco laboris nisi ut aliquip ex ea commodo consequat.\n",
            "------------------------------\n",
            "Duis aute irure dolor in reprehenderit in voluptate velit esse cillum dolore eu fugiat nulla pariatur.\n",
            "------------------------------\n",
            "Excepteur sint occaecat cupidatat non proident, sunt in culpa qui officia deserunt mollit anim id est laborum.\n",
            "------------------------------\n"
          ]
        }
      ],
      "source": [
        "with open(\"icantread.txt\", \"r\") as f:\n",
        "    for line in f: # читает по линии до перевода строки\n",
        "        print(line.strip())\n",
        "        print('-' * 30)"
      ]
    },
    {
      "cell_type": "markdown",
      "metadata": {
        "id": "B0SHqDXRycIQ"
      },
      "source": [
        "А еще умеем выводить просто с помощью print:\n"
      ]
    },
    {
      "cell_type": "markdown",
      "metadata": {
        "id": "3UVGsdQ_x-Fx"
      },
      "source": [
        "#### Учимся печатать и читать из одного места"
      ]
    },
    {
      "cell_type": "code",
      "execution_count": 36,
      "metadata": {
        "colab": {
          "base_uri": "https://localhost:8080/"
        },
        "id": "3Emr4O75zQYy",
        "outputId": "c2ea52b4-82f6-4dc6-a0c2-e9c1a05c433b"
      },
      "outputs": [
        {
          "name": "stdout",
          "output_type": "stream",
          "text": [
            "m dol\n",
            "16\n",
            "\n",
            "Lorem ipsuWOWOWOWOWOWOOmet, consectetur adipiscing elit, sed do eiusmod tempor incididunt ut labore et dolore magna aliqua.\n",
            "Ut enim ad minim veniam, quis nostrud exercitation ullamco laboris nisi ut aliquip ex ea commodo consequat.\n",
            "Duis aute irure dolor in reprehenderit in voluptate velit esse cillum dolore eu fugiat nulla pariatur.\n",
            "Excepteur sint occaecat cupidatat non proident, sunt in culpa qui officia deserunt mollit anim id est laborum.\n",
            "\n"
          ]
        }
      ],
      "source": [
        "fh = open('icantread.txt', 'r+') #w+ позволяет сразу и записывать, и читать\n",
        "\n",
        "fh.seek(11)\n",
        "print(fh.read(5))\n",
        "print(fh.tell())\n",
        "fh.seek(11)\n",
        "fh.write('WOWOWOWOWOWOO')\n",
        "fh.seek(0)\n",
        "content = fh.read()\n",
        "print(content)\n",
        "fh.close()"
      ]
    },
    {
      "cell_type": "markdown",
      "metadata": {
        "id": "J3WZkyu4zfk3"
      },
      "source": [
        "#### Заключение"
      ]
    },
    {
      "cell_type": "markdown",
      "metadata": {
        "id": "X447WveXzhGw"
      },
      "source": [
        "Умеем читать из файла, умеем записывать в файл, умеем читать и писать! В целом достаточно"
      ]
    },
    {
      "cell_type": "markdown",
      "metadata": {
        "id": "FX3khP32WldB"
      },
      "source": [
        "## Контекстные менеджеры"
      ]
    },
    {
      "cell_type": "markdown",
      "metadata": {
        "id": "BevCyHGaWngk"
      },
      "source": [
        "Что такое контекстный менеджер? Если отвечать максимально просто - то это оператор with\n",
        "\n",
        "Если более сложно (согласно PEP) - это объект, который реализует операторы enter и exit (про это детально будем говорить в части ООП)\n",
        "\n",
        "Как это выглядит?"
      ]
    },
    {
      "cell_type": "code",
      "execution_count": 75,
      "metadata": {
        "id": "3ZSzKG2BXqJE"
      },
      "outputs": [
        {
          "name": "stdout",
          "output_type": "stream",
          "text": [
            "True\n"
          ]
        }
      ],
      "source": [
        "class FileManager():\n",
        "    def __init__(self, filename, mode):\n",
        "        self.filename = filename\n",
        "        self.mode = mode\n",
        "        self.file = None\n",
        "\n",
        "    def __enter__(self):\n",
        "        self.file = open(self.filename, self.mode)\n",
        "        return self.file\n",
        "\n",
        "    def __exit__(self, exc_type, exc_value, exc_traceback):\n",
        "        self.file.close()\n",
        "\n",
        "# loading a file\n",
        "with FileManager('test.txt', 'w') as f:\n",
        "    f.write('Test')\n",
        "\n",
        "print(f.closed)"
      ]
    },
    {
      "cell_type": "markdown",
      "metadata": {
        "id": "lol4lFX-XrTu"
      },
      "source": [
        "Примерно вот так (это способ реализации открытия и закрытия файла). Что здесь происходит:\n",
        "\n",
        "```\n",
        "with <smth>: - инциализация контестного менеджера\n",
        "    - происходит enter\n",
        "    <actions>\n",
        "-происходит exit\n",
        "<actions>\n",
        "```\n",
        "\n",
        "Как это работает с точки зрения файлов и почему with позволяет нам не закрывать файлы самостоятельно?\n",
        "\n",
        "Мы указываем в самом начале, что надо надо открыть или передать (в данном случае мы передаем файловый поток), как-то с ним работаем, а после закрытие прописано в самом exit() - то есть по выходу из блока он делает самостоятельное закрытие"
      ]
    }
  ],
  "metadata": {
    "colab": {
      "collapsed_sections": [
        "x_wsFhcdI1GU",
        "5TL3Z4SwJfFt",
        "hqKOOk1dF3wg",
        "QSmFKIOlIJQr",
        "TQ69xxImpg6l",
        "FX3khP32WldB"
      ],
      "provenance": []
    },
    "kernelspec": {
      "display_name": "Python 3",
      "name": "python3"
    },
    "language_info": {
      "codemirror_mode": {
        "name": "ipython",
        "version": 3
      },
      "file_extension": ".py",
      "mimetype": "text/x-python",
      "name": "python",
      "nbconvert_exporter": "python",
      "pygments_lexer": "ipython3",
      "version": "3.11.2"
    }
  },
  "nbformat": 4,
  "nbformat_minor": 0
}
