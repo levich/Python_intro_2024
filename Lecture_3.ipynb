{
  "cells": [
    {
      "cell_type": "markdown",
      "metadata": {
        "id": "8y5Q2vP2l0X7"
      },
      "source": [
        "# Python-1, Лекция 3\n",
        "\n"
      ]
    },
    {
      "cell_type": "markdown",
      "metadata": {
        "id": "dxa__Uzkl6D9"
      },
      "source": [
        "## Множества"
      ]
    },
    {
      "cell_type": "markdown",
      "metadata": {
        "id": "FjWXX3hfmUE-"
      },
      "source": [
        "Скорее всего вы знаете, что такое множества, исходя из математики. Множество - это набор уникальных элементов.\n",
        "\n",
        "Ну и что же в этом уникального, спросите вы? Можно же просто просто хранить список. А вот нет, тогда мы будем сильно проигрывать по времени. Давайте попробуем что-нибудь:"
      ]
    },
    {
      "cell_type": "code",
      "execution_count": 1,
      "metadata": {
        "id": "rjDejp-nlvX7"
      },
      "outputs": [],
      "source": [
        "a = [i for i in range(100000)]\n",
        "b = set(a) #создать множество можно из чего угодно"
      ]
    },
    {
      "cell_type": "code",
      "execution_count": 2,
      "metadata": {
        "colab": {
          "base_uri": "https://localhost:8080/"
        },
        "id": "crOsAtctoc_P",
        "outputId": "47e33982-8a31-40ea-a2f9-e02308c31a1d"
      },
      "outputs": [
        {
          "name": "stdout",
          "output_type": "stream",
          "text": [
            "CPU times: user 54 μs, sys: 9 μs, total: 63 μs\n",
            "Wall time: 73 μs\n"
          ]
        }
      ],
      "source": [
        "%%time\n",
        "\n",
        "## Вот так можно замерить время\n",
        "\n",
        "c = 10000\n",
        "if c not in a:\n",
        "    a.append(c)"
      ]
    },
    {
      "cell_type": "code",
      "execution_count": 3,
      "metadata": {
        "colab": {
          "base_uri": "https://localhost:8080/"
        },
        "id": "5wUdkU3popLs",
        "outputId": "ba959e17-3794-45de-e629-1b101a495132"
      },
      "outputs": [
        {
          "name": "stdout",
          "output_type": "stream",
          "text": [
            "CPU times: user 1 μs, sys: 0 ns, total: 1 μs\n",
            "Wall time: 2.15 μs\n"
          ]
        }
      ],
      "source": [
        "%%time\n",
        "\n",
        "## Вот так можно замерить время\n",
        "\n",
        "c = 10000\n",
        "if c not in b:\n",
        "    b.add(c)"
      ]
    },
    {
      "cell_type": "markdown",
      "metadata": {
        "id": "MSK31w6uo_au"
      },
      "source": [
        "Опа и пожалуйста, экономия времени! Как это получается? На самом деле ответ кроется в том, как хранит элементы множество и список (список хранит просто в раличных ячейках памяти элементы, множество же занимается хэшированием, но про это вам расскажут на курсе алгоритмов)\n",
        "\n",
        "А наша задача, в первую очередь, это вообще понять, как с ними работать. Итак, поехали:"
      ]
    },
    {
      "cell_type": "markdown",
      "metadata": {
        "id": "Rey23DlopqgS"
      },
      "source": [
        "* s.add(elem) - добавить элемент во множество (если элемент уже есть, то ничего не изменится)\n",
        "\n",
        "* clear() - очистить множество\n",
        "\n",
        "* copy() - скопировать множество\n",
        "\n",
        "* s.discard(elem) / s.remove(elem) / s.pop() - разные методы удаления (первое - не ругнется, если попробовать убрать элемент не из множества, второй - ругнется, третий - просто вытаскивает рандомный элемент и возвращает его)\n",
        "\n",
        "* difference / difference_update() / - - разность\n",
        "\n",
        "* union() / | - объединение множеств\n",
        "\n",
        "* intersection() / & - пересечение множеств\n",
        "\n",
        "* issubset() / isdisjoint() / issuperset() - проверка на подмножество, наличие пересечений и проверка на супермножество\n",
        "\n",
        "* symmetric_difference / ^ - симметричная разность\n",
        "\n",
        "* len(s) - узнать число элементов во множестве\n",
        "\n",
        "Как можно заметить, некоторые операторы можно использовать даже)"
      ]
    },
    {
      "cell_type": "markdown",
      "metadata": {
        "id": "Vy29pQMB-gCw"
      },
      "source": [
        "![](https://habrastorage.org/files/8dc/1ae/16d/8dc1ae16db9c4432938a8e79b97eefe3.png)"
      ]
    },
    {
      "cell_type": "code",
      "execution_count": 4,
      "metadata": {
        "colab": {
          "base_uri": "https://localhost:8080/"
        },
        "id": "5j_PPmBLsyRM",
        "outputId": "2668a0ad-bccb-469a-a780-c044fb798f3b"
      },
      "outputs": [
        {
          "name": "stdout",
          "output_type": "stream",
          "text": [
            "{1, 2, 3, 4, 5, 6} {1, 2, 3, 4, 5, 6}\n",
            "{5} {5}\n",
            "{1, 2, 3} {1, 2, 3}\n",
            "{1, 2, 3, 4, 6} {1, 2, 3, 4, 6}\n"
          ]
        }
      ],
      "source": [
        "a = {1,2,3,5} #а еще множества можно объявлять вот так\n",
        "b = {4,5,6}\n",
        "\n",
        "print(a.union(b), a | b)\n",
        "print(a.intersection(b), a & b)\n",
        "print(a.difference(b), a - b)\n",
        "print(a.symmetric_difference(b), a ^ b)"
      ]
    },
    {
      "cell_type": "markdown",
      "metadata": {
        "id": "cnnmDYxPtEiI"
      },
      "source": [
        "Есть такая штука, как difference_update. Как думаете, в чем разница?"
      ]
    },
    {
      "cell_type": "code",
      "execution_count": 5,
      "metadata": {
        "colab": {
          "base_uri": "https://localhost:8080/"
        },
        "id": "cAd-BBm2tKPj",
        "outputId": "60e0640a-2590-4dba-f6be-56d64848d977"
      },
      "outputs": [
        {
          "name": "stdout",
          "output_type": "stream",
          "text": [
            "{1, 2, 3} {1, 2, 3, 5}\n",
            "None {1, 2, 3}\n"
          ]
        }
      ],
      "source": [
        "print(a.difference(b), a)\n",
        "print(a.difference_update(b), a)"
      ]
    },
    {
      "cell_type": "markdown",
      "metadata": {
        "id": "G5wQ-6eNtULD"
      },
      "source": [
        "Поиграемся с удалениями элементов:"
      ]
    },
    {
      "cell_type": "code",
      "execution_count": 6,
      "metadata": {
        "colab": {
          "base_uri": "https://localhost:8080/",
          "height": 222
        },
        "id": "upsQVq4ltTuw",
        "outputId": "1f29d9be-0be1-4d7b-cf74-671bdaea85c1"
      },
      "outputs": [
        {
          "ename": "KeyError",
          "evalue": "3",
          "output_type": "error",
          "traceback": [
            "\u001b[0;31m---------------------------------------------------------------------------\u001b[0m",
            "\u001b[0;31mKeyError\u001b[0m                                  Traceback (most recent call last)",
            "Cell \u001b[0;32mIn[6], line 4\u001b[0m\n\u001b[1;32m      2\u001b[0m a\u001b[38;5;241m.\u001b[39mdiscard(\u001b[38;5;241m5\u001b[39m)\n\u001b[1;32m      3\u001b[0m a\u001b[38;5;241m.\u001b[39mremove(\u001b[38;5;241m3\u001b[39m)\n\u001b[0;32m----> 4\u001b[0m \u001b[43ma\u001b[49m\u001b[38;5;241;43m.\u001b[39;49m\u001b[43mremove\u001b[49m\u001b[43m(\u001b[49m\u001b[38;5;241;43m3\u001b[39;49m\u001b[43m)\u001b[49m\n",
            "\u001b[0;31mKeyError\u001b[0m: 3"
          ]
        }
      ],
      "source": [
        "a.discard(5)\n",
        "a.discard(5)\n",
        "a.remove(3)\n",
        "a.remove(3)"
      ]
    },
    {
      "cell_type": "code",
      "execution_count": 7,
      "metadata": {
        "colab": {
          "base_uri": "https://localhost:8080/"
        },
        "id": "0ion_mKAtfuk",
        "outputId": "1214623a-30a5-4674-f01b-f781fb41dd7f"
      },
      "outputs": [
        {
          "name": "stdout",
          "output_type": "stream",
          "text": [
            "1\n",
            "2\n"
          ]
        }
      ],
      "source": [
        "while a:\n",
        "    print(a.pop())"
      ]
    },
    {
      "cell_type": "code",
      "execution_count": 8,
      "metadata": {
        "colab": {
          "base_uri": "https://localhost:8080/",
          "height": 185
        },
        "id": "0uI-W9YqtjnX",
        "outputId": "7211a1d6-b48d-40ea-e664-a64f7688239e"
      },
      "outputs": [
        {
          "ename": "TypeError",
          "evalue": "unhashable type: 'list'",
          "output_type": "error",
          "traceback": [
            "\u001b[0;31m---------------------------------------------------------------------------\u001b[0m",
            "\u001b[0;31mTypeError\u001b[0m                                 Traceback (most recent call last)",
            "Cell \u001b[0;32mIn[8], line 1\u001b[0m\n\u001b[0;32m----> 1\u001b[0m \u001b[43ma\u001b[49m\u001b[38;5;241;43m.\u001b[39;49m\u001b[43madd\u001b[49m\u001b[43m(\u001b[49m\u001b[43m[\u001b[49m\u001b[38;5;241;43m15\u001b[39;49m\u001b[43m,\u001b[49m\u001b[38;5;241;43m20\u001b[39;49m\u001b[43m]\u001b[49m\u001b[43m)\u001b[49m \u001b[38;5;66;03m#упс, а почему так нельзя?\u001b[39;00m\n",
            "\u001b[0;31mTypeError\u001b[0m: unhashable type: 'list'"
          ]
        }
      ],
      "source": [
        "a.add([15,20]) #упс, а почему так нельзя?"
      ]
    },
    {
      "cell_type": "markdown",
      "metadata": {
        "id": "0gZegHentq-y"
      },
      "source": [
        "Как раз здесь нам значимо, что есть mutable и immutable типы данных. Как мы упоминали на первой лекции, отличие кортежа от списка в том, что одно - изменяемое, а другое - нет\n",
        "\n",
        "Это играет большую роль в случае с хэшированием. Изменяемые объекты не хешируемы! А это значит, что их нельзя хранить в множествах и словарях (в словарях - в качестве ключей). Почему? А потому что принцип их работы зависит от того условия, что объекты нельзя изменить (только таким образом это работает быстро и так, как надо).\n",
        "\n",
        "Ну хорошо, как же тогда быть? Использовать кортеж!"
      ]
    },
    {
      "cell_type": "code",
      "execution_count": 9,
      "metadata": {
        "colab": {
          "base_uri": "https://localhost:8080/"
        },
        "id": "CpLkx6M2uQjB",
        "outputId": "70b24906-aa00-47bd-d67e-34415813bb69"
      },
      "outputs": [
        {
          "data": {
            "text/plain": [
              "{(15, 20), (15, 20, 13), (15, 21)}"
            ]
          },
          "execution_count": 9,
          "metadata": {},
          "output_type": "execute_result"
        }
      ],
      "source": [
        "a = set()\n",
        "a.add((15, 20))\n",
        "a.add((15, 21))\n",
        "a.add((15, 20, 13))\n",
        "a"
      ]
    },
    {
      "cell_type": "markdown",
      "metadata": {
        "id": "k1TktXf-uUh0"
      },
      "source": [
        "Славно! А какие типы изменяемые, а какие нет? Давайте поделим:\n",
        "\n",
        "1. Изменяемые:\n",
        "\n",
        "* Списки\n",
        "\n",
        "* Множества\n",
        "\n",
        "* Словари\n",
        "\n",
        "2. Неизменяемые:\n",
        "\n",
        "* Строки\n",
        "\n",
        "* Кортежи\n",
        "\n",
        "* Числа\n",
        "\n",
        "* Логические значения"
      ]
    },
    {
      "cell_type": "markdown",
      "metadata": {
        "id": "dKaa08oOu1Em"
      },
      "source": [
        "Так что в целом не так все и плохо!"
      ]
    },
    {
      "cell_type": "markdown",
      "metadata": {
        "id": "DrBP9jP0mC9h"
      },
      "source": [
        "### FrozenSet"
      ]
    },
    {
      "cell_type": "markdown",
      "metadata": {
        "id": "gq5UybUOmUlA"
      },
      "source": [
        "А теперь то же самое, но только сделаем так, чтобы set был неизменяемым (иногда это нужно)"
      ]
    },
    {
      "cell_type": "code",
      "execution_count": 10,
      "metadata": {
        "colab": {
          "base_uri": "https://localhost:8080/"
        },
        "id": "C0yZOpxZmU8C",
        "outputId": "56d4bac9-cea7-412d-d1d3-c4936e30697d"
      },
      "outputs": [
        {
          "data": {
            "text/plain": [
              "{(15, 20), frozenset({15, 20})}"
            ]
          },
          "execution_count": 10,
          "metadata": {},
          "output_type": "execute_result"
        }
      ],
      "source": [
        "a.add(frozenset({15, 20})) #жесть, так можно!\n",
        "a"
      ]
    },
    {
      "cell_type": "markdown",
      "metadata": {
        "id": "PA65csanvQxC"
      },
      "source": [
        "Подерживает все те же операции, что и set, но которые его не меняют (нельзя изменить frozenset, на то он и нужен)"
      ]
    },
    {
      "cell_type": "markdown",
      "metadata": {
        "id": "8Om1iSgAl76q"
      },
      "source": [
        "## Словари"
      ]
    },
    {
      "cell_type": "markdown",
      "metadata": {
        "id": "j0qa_qhjl9Mb"
      },
      "source": [
        "Ну хорошо, у нас есть множества, давайте пойдем чуть дальше. Допустим, что мы хотим иметь не просто множество, а еще уметь и считать, сколько раз тот или иной элемент встретился!\n",
        "\n",
        "Можно ответить про Counter, конечно, но про это мы позже поговорим тоже, а сейчас давайте про уже встроенные методы. То есть что бы нам хотелось? Хранить некоторую пару \"value\" - \"значение\" (в нашем случае сколько раз встретилось)\n",
        "\n",
        "Вот для этого и подходят словари! (почему словарь - аналогия с переводом)\n",
        "Давайте создавать!"
      ]
    },
    {
      "cell_type": "code",
      "execution_count": 11,
      "metadata": {
        "colab": {
          "base_uri": "https://localhost:8080/"
        },
        "id": "DnI9IM0eDNZS",
        "outputId": "1e0db169-1fc6-4f9c-edc8-aa7140681f6b"
      },
      "outputs": [
        {
          "data": {
            "text/plain": [
              "{1: 5, 2: 6, 3: 7}"
            ]
          },
          "execution_count": 11,
          "metadata": {},
          "output_type": "execute_result"
        }
      ],
      "source": [
        "d = {1:5, 2:6, 3:7} #явно объявить можно вот таким образом, так же существует просто вызов dict()\n",
        "d"
      ]
    },
    {
      "cell_type": "markdown",
      "metadata": {
        "id": "T1v9kuA0DeJx"
      },
      "source": [
        "Все, что находится слева (до двоеточия) - это ключи (или же keys), все, что после - это значения (или же values)"
      ]
    },
    {
      "cell_type": "code",
      "execution_count": 12,
      "metadata": {
        "colab": {
          "base_uri": "https://localhost:8080/"
        },
        "id": "GveiZeqgDmbk",
        "outputId": "7c295883-40c4-4990-cab5-4ba8a615b46e"
      },
      "outputs": [
        {
          "name": "stdout",
          "output_type": "stream",
          "text": [
            "dict_keys([1, 2, 3]) dict_values([5, 6, 7]) dict_items([(1, 5), (2, 6), (3, 7)])\n"
          ]
        }
      ],
      "source": [
        "print(d.keys(), d.values(), d.items())"
      ]
    },
    {
      "cell_type": "markdown",
      "metadata": {
        "id": "qXD2B436LE38"
      },
      "source": [
        "Как обращаться по ключу? Абсолютно точно также, как и в списке (можно считать, будто это индексы):"
      ]
    },
    {
      "cell_type": "code",
      "execution_count": 13,
      "metadata": {
        "colab": {
          "base_uri": "https://localhost:8080/"
        },
        "id": "cFTSDgjwLMZ3",
        "outputId": "92c4dc15-84e7-49a4-a1f6-426a190c42fe"
      },
      "outputs": [
        {
          "data": {
            "text/plain": [
              "7"
            ]
          },
          "execution_count": 13,
          "metadata": {},
          "output_type": "execute_result"
        }
      ],
      "source": [
        "d[3]"
      ]
    },
    {
      "cell_type": "markdown",
      "metadata": {
        "id": "hEShj_o2LP0b"
      },
      "source": [
        "Но потом мы попробовали вот так:"
      ]
    },
    {
      "cell_type": "code",
      "execution_count": 14,
      "metadata": {
        "colab": {
          "base_uri": "https://localhost:8080/",
          "height": 185
        },
        "id": "k1W5X1fCLRw8",
        "outputId": "f72f0462-7c62-4f58-fee2-b20dd4e08ca9"
      },
      "outputs": [
        {
          "ename": "KeyError",
          "evalue": "4",
          "output_type": "error",
          "traceback": [
            "\u001b[0;31m---------------------------------------------------------------------------\u001b[0m",
            "\u001b[0;31mKeyError\u001b[0m                                  Traceback (most recent call last)",
            "Cell \u001b[0;32mIn[14], line 1\u001b[0m\n\u001b[0;32m----> 1\u001b[0m \u001b[43md\u001b[49m\u001b[43m[\u001b[49m\u001b[38;5;241;43m4\u001b[39;49m\u001b[43m]\u001b[49m\n",
            "\u001b[0;31mKeyError\u001b[0m: 4"
          ]
        }
      ],
      "source": [
        "d[4]"
      ]
    },
    {
      "cell_type": "markdown",
      "metadata": {
        "id": "BwawQG1nLTIw"
      },
      "source": [
        "И получили ошибку, что же делать? Для этого есть более \"безопасный\" вариант: get()"
      ]
    },
    {
      "cell_type": "code",
      "execution_count": 15,
      "metadata": {
        "colab": {
          "base_uri": "https://localhost:8080/"
        },
        "id": "jYNw4kt5LZWu",
        "outputId": "c4be3751-6f82-4303-8dab-6e9e17634a54"
      },
      "outputs": [
        {
          "name": "stdout",
          "output_type": "stream",
          "text": [
            "None\n"
          ]
        }
      ],
      "source": [
        "print(d.get(4)) #он выведет ничего, так как ничего и нет"
      ]
    },
    {
      "cell_type": "markdown",
      "metadata": {
        "id": "H4jgBDeoLsAT"
      },
      "source": [
        "Что можео быть в качестве значения? На самом деле что угодно!\n",
        "\n",
        "Что может быть в качестве ключей? Только НЕизменяемые объекты"
      ]
    },
    {
      "cell_type": "code",
      "execution_count": 16,
      "metadata": {
        "colab": {
          "base_uri": "https://localhost:8080/"
        },
        "id": "eNUFhYv1LxxI",
        "outputId": "b8a2e327-3cc7-47f1-d6c3-5ddebe50f058"
      },
      "outputs": [
        {
          "data": {
            "text/plain": [
              "{'abc': {1, 2, 3}}"
            ]
          },
          "execution_count": 16,
          "metadata": {},
          "output_type": "execute_result"
        }
      ],
      "source": [
        "a = {\"abc\": set([1,2,3])}\n",
        "a"
      ]
    },
    {
      "cell_type": "markdown",
      "metadata": {
        "id": "NHUllYNKL54z"
      },
      "source": [
        "Ну хорошо, создавать от руки мы умеем. А как теперь добавлять/удалять и так далее, что мы вообще можем делать со словарем?\n",
        "\n"
      ]
    },
    {
      "cell_type": "code",
      "execution_count": 17,
      "metadata": {
        "colab": {
          "base_uri": "https://localhost:8080/"
        },
        "id": "YcxE52x5MRQX",
        "outputId": "12959f6d-ea55-40f7-bd9d-77c3825b2e62"
      },
      "outputs": [
        {
          "name": "stdout",
          "output_type": "stream",
          "text": [
            "{1: 6, 2: 6, 3: 7, 4: 100}\n"
          ]
        }
      ],
      "source": [
        "d[4] = 100\n",
        "d[1] += 1\n",
        "print(d)"
      ]
    },
    {
      "cell_type": "markdown",
      "metadata": {
        "id": "0WLRBamyRCI6"
      },
      "source": [
        "* d.pop(elem) - удалить ключ и вернуть по нему значение\n",
        "\n",
        "* d.popitem() - удали рандомный элемент и верни ключ-значение удаленного\n",
        "\n",
        "* d.clear() - очистить словарь\n",
        "\n",
        "* len(d) - число элементов\n",
        "\n",
        "* d.setdefault(key, value) - поставь значение по ключу, если его нет, то поставь value"
      ]
    },
    {
      "cell_type": "code",
      "execution_count": 18,
      "metadata": {
        "colab": {
          "base_uri": "https://localhost:8080/"
        },
        "id": "UsVyTCb7RgaE",
        "outputId": "3b9dddec-2a4a-4440-94e0-c9b4350197b7"
      },
      "outputs": [
        {
          "name": "stdout",
          "output_type": "stream",
          "text": [
            "(3, 7)\n",
            "2\n",
            "10000\n",
            "{1: 6, 2: 6, 4: 10000}\n"
          ]
        }
      ],
      "source": [
        "d.pop(4)\n",
        "print(d.popitem())\n",
        "print(len(d))\n",
        "print(d.setdefault(4, 10000))\n",
        "print(d)"
      ]
    },
    {
      "cell_type": "code",
      "execution_count": 19,
      "metadata": {
        "colab": {
          "base_uri": "https://localhost:8080/"
        },
        "id": "Di3vId6_R7vq",
        "outputId": "6b4a2871-5460-4716-8847-bcc8c48c5fe6"
      },
      "outputs": [
        {
          "data": {
            "text/plain": [
              "{}"
            ]
          },
          "execution_count": 19,
          "metadata": {},
          "output_type": "execute_result"
        }
      ],
      "source": [
        "d.clear()\n",
        "d"
      ]
    },
    {
      "cell_type": "markdown",
      "metadata": {
        "id": "wRBJSfX2L9aq"
      },
      "source": [
        "Ну хорошо, вроде как понятно, как работать со словарем. Но, допустим, к нам приходит отдел маркетинга и такой: хотим автоматизировать подсчет переходов по рекламе. У нас есть ЭКСЕЛЬКА, в которой есть список с рекламными компаниями и текущие значения, которые посчитали, а как добавить эту информацию и дальше считать по-новому?\n",
        "\n",
        "Мы призадумались..."
      ]
    },
    {
      "cell_type": "code",
      "execution_count": 20,
      "metadata": {
        "id": "_P3AYUKDMbnK"
      },
      "outputs": [],
      "source": [
        "c = [\"c_1\", \"c_2\", \"c_3\", \"c_4\", \"c_5\"]\n",
        "n = [1, 2, 3, 4, 100]\n",
        "\n",
        "## Что-то надо сделать"
      ]
    },
    {
      "cell_type": "markdown",
      "metadata": {
        "id": "_ZpTnE8IMkX5"
      },
      "source": [
        "Можно было бы сделать вот так:"
      ]
    },
    {
      "cell_type": "code",
      "execution_count": 21,
      "metadata": {
        "colab": {
          "base_uri": "https://localhost:8080/"
        },
        "id": "DSOPdGFnMm8d",
        "outputId": "375040c4-cf59-4301-bb04-25fafaaaaa2f"
      },
      "outputs": [
        {
          "name": "stdout",
          "output_type": "stream",
          "text": [
            "{'c_1': 1, 'c_2': 2, 'c_3': 3, 'c_4': 4, 'c_5': 100}\n"
          ]
        }
      ],
      "source": [
        "d = dict()\n",
        "for i in range(len(c)):\n",
        "    d[c[i]] = n[i]\n",
        "print(d)"
      ]
    },
    {
      "cell_type": "markdown",
      "metadata": {
        "id": "ta9xrCYHMuYt"
      },
      "source": [
        "Но можно ли не использовать циклы и сделать это более кратко?...\n",
        "\n",
        "А вот можно!"
      ]
    },
    {
      "cell_type": "code",
      "execution_count": 22,
      "metadata": {
        "colab": {
          "base_uri": "https://localhost:8080/"
        },
        "id": "6o4BKShbM1Tj",
        "outputId": "f9e9434d-66ce-4106-a819-163ac14326ea"
      },
      "outputs": [
        {
          "name": "stdout",
          "output_type": "stream",
          "text": [
            "{'c_1': 1, 'c_2': 2, 'c_3': 3, 'c_4': 4, 'c_5': 100}\n"
          ]
        }
      ],
      "source": [
        "d = dict(zip(c, n))\n",
        "print(d)"
      ]
    },
    {
      "cell_type": "markdown",
      "metadata": {
        "id": "y_F_m87KM5yY"
      },
      "source": [
        "Вау! А что случилось?\n",
        "\n",
        "Функция zip позволяет объединить данные в кортежи (аналогия с застежкой)"
      ]
    },
    {
      "cell_type": "code",
      "execution_count": 23,
      "metadata": {
        "colab": {
          "base_uri": "https://localhost:8080/"
        },
        "id": "aoBvpIsFNK5r",
        "outputId": "77c8b0f3-fc48-4836-837c-3a990d6c3911"
      },
      "outputs": [
        {
          "data": {
            "text/plain": [
              "[('c_1', 1), ('c_2', 2), ('c_3', 3), ('c_4', 4), ('c_5', 100)]"
            ]
          },
          "execution_count": 23,
          "metadata": {},
          "output_type": "execute_result"
        }
      ],
      "source": [
        "list(zip(c, n)) ## приходится делать list, потому что zip создает итератор (но про это позже)"
      ]
    },
    {
      "cell_type": "markdown",
      "metadata": {
        "id": "CtI2AsPzmFW1"
      },
      "source": [
        "## DefaultDict"
      ]
    },
    {
      "cell_type": "markdown",
      "metadata": {
        "id": "DCFIpSSdmVX8"
      },
      "source": [
        "Итак, в чем самая главная проблема словарей? Ну банально в том, что нужно каждый раз проверять, а есть ли ключ в словаре, а то если его нет, то наш скрипт, само собой, упадет. А что, если бы мы прям с самого начал уже задавали какое-то базовое (дефолтное) значение? Вот для этого существует такая вещь, как defaultdict, которая лежит в отдельном модуле collections"
      ]
    },
    {
      "cell_type": "markdown",
      "metadata": {
        "id": "BMV6oSynJ0UJ"
      },
      "source": [
        "Итак, сегодня мы в первый раз поговорим про библиотеки и модули. Что это такое?\n",
        "\n",
        "По сути библиотека - это набор дополнительных функций, которые позволяют вам использовать их с помощью вызова всего лишь одной строчки кода!"
      ]
    },
    {
      "cell_type": "code",
      "execution_count": 25,
      "metadata": {
        "id": "MFF8mF_5J2K1"
      },
      "outputs": [
        {
          "name": "stderr",
          "output_type": "stream",
          "text": [
            "Matplotlib is building the font cache; this may take a moment.\n"
          ]
        }
      ],
      "source": [
        "import math # когда делаем вот так, то можно вызывать функции через название модуля.функция\n",
        "from numpy import * # импортим все и можем обращаться напрямую\n",
        "import matplotlib.pyplot as plt # даем сокращение названию модулю"
      ]
    },
    {
      "cell_type": "markdown",
      "metadata": {
        "id": "5uU3MPsjKCJj"
      },
      "source": [
        "Давайте попробуем импортировать [collections](https://docs.python.org/3/library/collections.html):"
      ]
    },
    {
      "cell_type": "code",
      "execution_count": 26,
      "metadata": {
        "colab": {
          "base_uri": "https://localhost:8080/"
        },
        "id": "FqBuJwTSKTE3",
        "outputId": "d239747d-de29-4650-c34a-6a01e15d1d98"
      },
      "outputs": [
        {
          "name": "stdout",
          "output_type": "stream",
          "text": [
            "0\n"
          ]
        }
      ],
      "source": [
        "from collections import defaultdict\n",
        "\n",
        "d = defaultdict(int)\n",
        "print(d[10])"
      ]
    },
    {
      "cell_type": "markdown",
      "metadata": {
        "id": "UxRdapueKyDt"
      },
      "source": [
        "Опа, мы вызвали значение от несуществующего ключа и вдруг ничего не выдало ошибку. Как же так? Давайте разбираться:\n",
        "\n",
        "* defaultdict(factory) - создай словарь вот с такой функцией по дефолту\n",
        "\n",
        "В данном случае мы вызвали int, который при вызове сам по себе дает 0:"
      ]
    },
    {
      "cell_type": "code",
      "execution_count": 27,
      "metadata": {
        "colab": {
          "base_uri": "https://localhost:8080/"
        },
        "id": "ntaccAySLNip",
        "outputId": "2be9ee33-0d10-4839-951f-55feeddbfdf7"
      },
      "outputs": [
        {
          "data": {
            "text/plain": [
              "0"
            ]
          },
          "execution_count": 27,
          "metadata": {},
          "output_type": "execute_result"
        }
      ],
      "source": [
        "int()"
      ]
    },
    {
      "cell_type": "markdown",
      "metadata": {
        "id": "-HfqQWcVLOuE"
      },
      "source": [
        "Можно использовать несколько других вариантов, например, string, list, или в целом любую функцию (когда будем говорить про функции мы ощутим полную мощь данного инструмента)\n",
        "\n",
        "Давайте еще вот такой пример:"
      ]
    },
    {
      "cell_type": "code",
      "execution_count": 28,
      "metadata": {
        "colab": {
          "base_uri": "https://localhost:8080/"
        },
        "id": "vJcHybYrLaCz",
        "outputId": "1c2c7914-e995-4730-dfd3-cb9ceeefcf71"
      },
      "outputs": [
        {
          "data": {
            "text/plain": [
              "dict_items([('yellow', [1, 3]), ('blue', [2, 4]), ('red', [1])])"
            ]
          },
          "execution_count": 28,
          "metadata": {},
          "output_type": "execute_result"
        }
      ],
      "source": [
        "s = [('yellow', 1), ('blue', 2), ('yellow', 3), ('blue', 4), ('red', 1)]\n",
        "d = defaultdict(list)\n",
        "for k, v in s:\n",
        "    d[k].append(v)\n",
        "\n",
        "d.items()"
      ]
    },
    {
      "cell_type": "markdown",
      "metadata": {
        "id": "3gaw1khnLiKL"
      },
      "source": [
        "Что здесь случилось? Мы задали в качестве изначальной функции list(). Что это значит? По дефолту создается пустой лист, внутри которого мы далее делаем append, то есть таким образом собираем все значения"
      ]
    },
    {
      "cell_type": "code",
      "execution_count": 2,
      "metadata": {},
      "outputs": [
        {
          "name": "stdout",
          "output_type": "stream",
          "text": [
            "Задумайте число от 0 до 1000\n",
            "Think of a number from 0 to 1000\n",
            "\n",
            "Ваше число равно 500 ?\n",
            "Is your number more or less than 500 ?\n",
            "\n",
            "Is your number 500 ?\n",
            "Is your number more or less than 500 ?\n",
            "\n",
            "Is your number 500 ?\n",
            "Is your number more or less than 500 ?\n",
            "\n",
            "Is your number 500 ?\n",
            "Is your number more or less than 500 ?\n",
            "\n",
            "Is your number 500 ?\n",
            "Is your number more or less than 500 ?\n",
            "\n",
            "Is your number 500 ?\n"
          ]
        },
        {
          "ename": "KeyboardInterrupt",
          "evalue": "Interrupted by user",
          "output_type": "error",
          "traceback": [
            "\u001b[0;31m---------------------------------------------------------------------------\u001b[0m",
            "\u001b[0;31mKeyboardInterrupt\u001b[0m                         Traceback (most recent call last)",
            "Cell \u001b[0;32mIn[2], line 11\u001b[0m\n\u001b[1;32m      9\u001b[0m \u001b[38;5;28;01mif\u001b[39;00m word \u001b[38;5;241m==\u001b[39m \u001b[38;5;124m'\u001b[39m\u001b[38;5;124mmore\u001b[39m\u001b[38;5;124m'\u001b[39m \u001b[38;5;129;01mor\u001b[39;00m word \u001b[38;5;241m==\u001b[39m\u001b[38;5;124m'\u001b[39m\u001b[38;5;124mless\u001b[39m\u001b[38;5;124m'\u001b[39m:\n\u001b[1;32m     10\u001b[0m     \u001b[38;5;28mprint\u001b[39m(\u001b[38;5;124m'\u001b[39m\u001b[38;5;130;01m\\n\u001b[39;00m\u001b[38;5;124mIs your number\u001b[39m\u001b[38;5;124m'\u001b[39m, mid, \u001b[38;5;124m'\u001b[39m\u001b[38;5;124m?\u001b[39m\u001b[38;5;124m'\u001b[39m)\n\u001b[0;32m---> 11\u001b[0m     word \u001b[38;5;241m=\u001b[39m \u001b[38;5;28;43minput\u001b[39;49m\u001b[43m(\u001b[49m\u001b[38;5;124;43m'\u001b[39;49m\u001b[38;5;124;43mEnter \u001b[39;49m\u001b[38;5;124;43m\"\u001b[39;49m\u001b[38;5;124;43myes\u001b[39;49m\u001b[38;5;124;43m\"\u001b[39;49m\u001b[38;5;124;43m or \u001b[39;49m\u001b[38;5;124;43m\"\u001b[39;49m\u001b[38;5;124;43mno\u001b[39;49m\u001b[38;5;124;43m\"\u001b[39;49m\u001b[38;5;124;43m: \u001b[39;49m\u001b[38;5;124;43m'\u001b[39;49m\u001b[43m)\u001b[49m\n\u001b[1;32m     12\u001b[0m \u001b[38;5;28;01melse\u001b[39;00m:\n\u001b[1;32m     13\u001b[0m     \u001b[38;5;28mprint\u001b[39m(\u001b[38;5;124m'\u001b[39m\u001b[38;5;130;01m\\n\u001b[39;00m\u001b[38;5;124mВаше число равно\u001b[39m\u001b[38;5;124m'\u001b[39m, mid, \u001b[38;5;124m'\u001b[39m\u001b[38;5;124m?\u001b[39m\u001b[38;5;124m'\u001b[39m)\n",
            "File \u001b[0;32m~/Documents/Work/HSE_Python_Intro/Python_1_HSE_2023/.venv/lib/python3.12/site-packages/ipykernel/kernelbase.py:1282\u001b[0m, in \u001b[0;36mKernel.raw_input\u001b[0;34m(self, prompt)\u001b[0m\n\u001b[1;32m   1280\u001b[0m     msg \u001b[38;5;241m=\u001b[39m \u001b[38;5;124m\"\u001b[39m\u001b[38;5;124mraw_input was called, but this frontend does not support input requests.\u001b[39m\u001b[38;5;124m\"\u001b[39m\n\u001b[1;32m   1281\u001b[0m     \u001b[38;5;28;01mraise\u001b[39;00m StdinNotImplementedError(msg)\n\u001b[0;32m-> 1282\u001b[0m \u001b[38;5;28;01mreturn\u001b[39;00m \u001b[38;5;28;43mself\u001b[39;49m\u001b[38;5;241;43m.\u001b[39;49m\u001b[43m_input_request\u001b[49m\u001b[43m(\u001b[49m\n\u001b[1;32m   1283\u001b[0m \u001b[43m    \u001b[49m\u001b[38;5;28;43mstr\u001b[39;49m\u001b[43m(\u001b[49m\u001b[43mprompt\u001b[49m\u001b[43m)\u001b[49m\u001b[43m,\u001b[49m\n\u001b[1;32m   1284\u001b[0m \u001b[43m    \u001b[49m\u001b[38;5;28;43mself\u001b[39;49m\u001b[38;5;241;43m.\u001b[39;49m\u001b[43m_parent_ident\u001b[49m\u001b[43m[\u001b[49m\u001b[38;5;124;43m\"\u001b[39;49m\u001b[38;5;124;43mshell\u001b[39;49m\u001b[38;5;124;43m\"\u001b[39;49m\u001b[43m]\u001b[49m\u001b[43m,\u001b[49m\n\u001b[1;32m   1285\u001b[0m \u001b[43m    \u001b[49m\u001b[38;5;28;43mself\u001b[39;49m\u001b[38;5;241;43m.\u001b[39;49m\u001b[43mget_parent\u001b[49m\u001b[43m(\u001b[49m\u001b[38;5;124;43m\"\u001b[39;49m\u001b[38;5;124;43mshell\u001b[39;49m\u001b[38;5;124;43m\"\u001b[39;49m\u001b[43m)\u001b[49m\u001b[43m,\u001b[49m\n\u001b[1;32m   1286\u001b[0m \u001b[43m    \u001b[49m\u001b[43mpassword\u001b[49m\u001b[38;5;241;43m=\u001b[39;49m\u001b[38;5;28;43;01mFalse\u001b[39;49;00m\u001b[43m,\u001b[49m\n\u001b[1;32m   1287\u001b[0m \u001b[43m\u001b[49m\u001b[43m)\u001b[49m\n",
            "File \u001b[0;32m~/Documents/Work/HSE_Python_Intro/Python_1_HSE_2023/.venv/lib/python3.12/site-packages/ipykernel/kernelbase.py:1325\u001b[0m, in \u001b[0;36mKernel._input_request\u001b[0;34m(self, prompt, ident, parent, password)\u001b[0m\n\u001b[1;32m   1322\u001b[0m \u001b[38;5;28;01mexcept\u001b[39;00m \u001b[38;5;167;01mKeyboardInterrupt\u001b[39;00m:\n\u001b[1;32m   1323\u001b[0m     \u001b[38;5;66;03m# re-raise KeyboardInterrupt, to truncate traceback\u001b[39;00m\n\u001b[1;32m   1324\u001b[0m     msg \u001b[38;5;241m=\u001b[39m \u001b[38;5;124m\"\u001b[39m\u001b[38;5;124mInterrupted by user\u001b[39m\u001b[38;5;124m\"\u001b[39m\n\u001b[0;32m-> 1325\u001b[0m     \u001b[38;5;28;01mraise\u001b[39;00m \u001b[38;5;167;01mKeyboardInterrupt\u001b[39;00m(msg) \u001b[38;5;28;01mfrom\u001b[39;00m \u001b[38;5;28;01mNone\u001b[39;00m\n\u001b[1;32m   1326\u001b[0m \u001b[38;5;28;01mexcept\u001b[39;00m \u001b[38;5;167;01mException\u001b[39;00m:\n\u001b[1;32m   1327\u001b[0m     \u001b[38;5;28mself\u001b[39m\u001b[38;5;241m.\u001b[39mlog\u001b[38;5;241m.\u001b[39mwarning(\u001b[38;5;124m\"\u001b[39m\u001b[38;5;124mInvalid Message:\u001b[39m\u001b[38;5;124m\"\u001b[39m, exc_info\u001b[38;5;241m=\u001b[39m\u001b[38;5;28;01mTrue\u001b[39;00m)\n",
            "\u001b[0;31mKeyboardInterrupt\u001b[0m: Interrupted by user"
          ]
        }
      ],
      "source": [
        "print('Задумайте число от 0 до 1000\\nThink of a number from 0 to 1000')\n",
        "word = ''\n",
        "low = 0\n",
        "high = 1000\n",
        "attempts = 0\n",
        "while word != 'да' and word != 'yes' and word != 'равно' and word != 'equal':\n",
        "    attempts += 1\n",
        "    mid = (low + high) // 2\n",
        "    if word == 'more' or word =='less':\n",
        "        print('\\nIs your number', mid, '?')\n",
        "        word = input('Enter \"yes\" or \"no\": ')\n",
        "    else:\n",
        "        print('\\nВаше число равно', mid, '?')\n",
        "        word = input('Введите \"да\" или \"нет\": ')\n",
        "\n",
        "    if word == 'да' or word == 'равно':\n",
        "        print(\"\\nВаше число -\", mid, \",отгадано за\", attempts, 'попыток')\n",
        "    elif word == \"нет\":\n",
        "        print(\"Ваше число больше или меньше\", mid, '?')\n",
        "        word = input('Введите \"больше\" или \"меньше\": ')\n",
        "    elif word == 'больше':\n",
        "        low = mid + 1\n",
        "        if mid == 1000:\n",
        "            print('Ваше число должно быть меньше 1000, задумайте новое число')\n",
        "            low = 0\n",
        "    elif word == 'меньше':\n",
        "        high = mid - 1\n",
        "        if mid == 1000:\n",
        "            print('Ваше число должно быть больше 0, задумайте новое число')\n",
        "            high = 1000\n",
        "\n",
        "\n",
        "    elif word == 'yes':\n",
        "        print(\"\\nYour number is\", mid, \",guessed in\", attempts, 'attemps')\n",
        "    elif word == \"no\":\n",
        "        print(\"Is your number more or less than\", mid, '?')\n",
        "        word = input('Enter \"more\" or \"less\": ')\n",
        "    elif word == 'more':\n",
        "        low = mid + 1\n",
        "        if mid == 1000:\n",
        "            print('Your number should be less than 1000, think of a new number')\n",
        "            low = 0\n",
        "    elif word == 'less':\n",
        "        high = mid - 1\n",
        "        if mid == 1000:\n",
        "            print('Your number must be more than 0, think of a new number')\n",
        "            high = 1000\n",
        "\n",
        "    else:\n",
        "        attempts -= 1\n",
        "        print(\"Пожалуйста, введите 'больше' или 'меньше' \\nPlease enter 'more' or 'less'\")\n"
      ]
    }
  ],
  "metadata": {
    "colab": {
      "provenance": []
    },
    "kernelspec": {
      "display_name": "Python 3",
      "name": "python3"
    },
    "language_info": {
      "codemirror_mode": {
        "name": "ipython",
        "version": 3
      },
      "file_extension": ".py",
      "mimetype": "text/x-python",
      "name": "python",
      "nbconvert_exporter": "python",
      "pygments_lexer": "ipython3",
      "version": "3.12.6"
    }
  },
  "nbformat": 4,
  "nbformat_minor": 0
}
