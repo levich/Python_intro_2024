{
  "cells": [
    {
      "cell_type": "markdown",
      "metadata": {
        "id": "gul1ajImwD0W"
      },
      "source": [
        "# Python-1, Лекция 5\n",
        "\n"
      ]
    },
    {
      "cell_type": "markdown",
      "metadata": {
        "id": "kVC6gn4agVTR"
      },
      "source": [
        "## Генераторы и итераторы"
      ]
    },
    {
      "cell_type": "markdown",
      "metadata": {
        "id": "4KkW_VMkgaQf"
      },
      "source": [
        "Начнем с базы. Внутри Python есть две вещи: iterator и iterable. В чем разница и что это такое?\n",
        "\n",
        "Iterable - это объект, над которым можно проводить итерацию. Что такое итерация? По сути это процесс перебора элементов (например, строки/множества/списки - это итерируемые объекты)\n",
        "\n",
        "А что же тогда такое итератор? А это у нас объект, который занимается процессом итерации. По определению это класс, у которого реализованы методы next и iter (для iterable объекта реализуется только сам iter)\n"
      ]
    },
    {
      "cell_type": "code",
      "execution_count": null,
      "metadata": {
        "colab": {
          "base_uri": "https://localhost:8080/"
        },
        "id": "CX6_-IaCiAsZ",
        "outputId": "aa57b1fa-a08a-4380-98bd-3aff95093cda"
      },
      "outputs": [
        {
          "name": "stdout",
          "output_type": "stream",
          "text": [
            "1\n",
            "2\n",
            "3\n",
            "4\n"
          ]
        }
      ],
      "source": [
        "c = [1, 2, 3, 4]\n",
        "for i in c: # что здесь происходит? Неявно вызывается iter(c)\n",
        "# Причем iter() работает только для так называемых контейнеров (для всех, у кого есть __getitem__)\n",
        "    print(i)"
      ]
    },
    {
      "cell_type": "code",
      "execution_count": null,
      "metadata": {
        "colab": {
          "base_uri": "https://localhost:8080/"
        },
        "id": "8T6mX3KmxP_l",
        "outputId": "69dc999a-2c39-4520-dbc9-1edf7e85fae5"
      },
      "outputs": [
        {
          "data": {
            "text/plain": [
              "<list_iterator at 0x7f2994d13d50>"
            ]
          },
          "execution_count": 8,
          "metadata": {},
          "output_type": "execute_result"
        }
      ],
      "source": [
        "iter(c)"
      ]
    },
    {
      "cell_type": "code",
      "execution_count": null,
      "metadata": {
        "colab": {
          "base_uri": "https://localhost:8080/",
          "height": 194
        },
        "id": "WWTdV5i4jjeW",
        "outputId": "dd3fde37-ff76-49b9-878b-ea931ca1e909"
      },
      "outputs": [
        {
          "ename": "TypeError",
          "evalue": "ignored",
          "output_type": "error",
          "traceback": [
            "\u001b[0;31m---------------------------------------------------------------------------\u001b[0m",
            "\u001b[0;31mTypeError\u001b[0m                                 Traceback (most recent call last)",
            "\u001b[0;32m<ipython-input-2-64c20f9fee22>\u001b[0m in \u001b[0;36m<module>\u001b[0;34m\u001b[0m\n\u001b[0;32m----> 1\u001b[0;31m \u001b[0;32mfor\u001b[0m \u001b[0mc\u001b[0m \u001b[0;32min\u001b[0m \u001b[0;36m32\u001b[0m\u001b[0;34m:\u001b[0m\u001b[0;34m\u001b[0m\u001b[0;34m\u001b[0m\u001b[0m\n\u001b[0m\u001b[1;32m      2\u001b[0m     \u001b[0mprint\u001b[0m\u001b[0;34m(\u001b[0m\u001b[0mc\u001b[0m\u001b[0;34m)\u001b[0m\u001b[0;34m\u001b[0m\u001b[0;34m\u001b[0m\u001b[0m\n",
            "\u001b[0;31mTypeError\u001b[0m: 'int' object is not iterable"
          ]
        }
      ],
      "source": [
        "for c in 32: #поэтому по числам не получится, они не итерируемые\n",
        "    print(c)"
      ]
    },
    {
      "cell_type": "code",
      "execution_count": null,
      "metadata": {
        "colab": {
          "base_uri": "https://localhost:8080/",
          "height": 288
        },
        "id": "OEfcnk-Dxqae",
        "outputId": "c6e05c08-6db3-444f-b055-e9de0217693a"
      },
      "outputs": [
        {
          "name": "stdout",
          "output_type": "stream",
          "text": [
            "1\n",
            "2\n",
            "3\n",
            "4\n"
          ]
        },
        {
          "ename": "StopIteration",
          "evalue": "ignored",
          "output_type": "error",
          "traceback": [
            "\u001b[0;31m---------------------------------------------------------------------------\u001b[0m",
            "\u001b[0;31mStopIteration\u001b[0m                             Traceback (most recent call last)",
            "\u001b[0;32m<ipython-input-12-87b312487dec>\u001b[0m in \u001b[0;36m<module>\u001b[0;34m\u001b[0m\n\u001b[1;32m      4\u001b[0m \u001b[0mprint\u001b[0m\u001b[0;34m(\u001b[0m\u001b[0mnext\u001b[0m\u001b[0;34m(\u001b[0m\u001b[0mn\u001b[0m\u001b[0;34m)\u001b[0m\u001b[0;34m)\u001b[0m\u001b[0;34m\u001b[0m\u001b[0;34m\u001b[0m\u001b[0m\n\u001b[1;32m      5\u001b[0m \u001b[0mprint\u001b[0m\u001b[0;34m(\u001b[0m\u001b[0mnext\u001b[0m\u001b[0;34m(\u001b[0m\u001b[0mn\u001b[0m\u001b[0;34m)\u001b[0m\u001b[0;34m)\u001b[0m\u001b[0;34m\u001b[0m\u001b[0;34m\u001b[0m\u001b[0m\n\u001b[0;32m----> 6\u001b[0;31m \u001b[0mprint\u001b[0m\u001b[0;34m(\u001b[0m\u001b[0mnext\u001b[0m\u001b[0;34m(\u001b[0m\u001b[0mn\u001b[0m\u001b[0;34m)\u001b[0m\u001b[0;34m)\u001b[0m\u001b[0;34m\u001b[0m\u001b[0;34m\u001b[0m\u001b[0m\n\u001b[0m",
            "\u001b[0;31mStopIteration\u001b[0m: "
          ]
        }
      ],
      "source": [
        "n = iter(c)\n",
        "print(next(n))\n",
        "print(next(n))\n",
        "print(next(n))\n",
        "print(next(n))\n",
        "print(next(n))"
      ]
    },
    {
      "cell_type": "code",
      "execution_count": 5,
      "metadata": {
        "colab": {
          "base_uri": "https://localhost:8080/",
          "height": 204
        },
        "id": "hhzoGeFtMC-Z",
        "outputId": "c82b6386-9215-4ca4-b33b-bc46a25632c8"
      },
      "outputs": [
        {
          "ename": "TypeError",
          "evalue": "ignored",
          "output_type": "error",
          "traceback": [
            "\u001b[0;31m---------------------------------------------------------------------------\u001b[0m",
            "\u001b[0;31mTypeError\u001b[0m                                 Traceback (most recent call last)",
            "\u001b[0;32m<ipython-input-5-6ad129393292>\u001b[0m in \u001b[0;36m<cell line: 2>\u001b[0;34m()\u001b[0m\n\u001b[1;32m      1\u001b[0m \u001b[0ml\u001b[0m \u001b[0;34m=\u001b[0m \u001b[0;34m[\u001b[0m\u001b[0;36m1\u001b[0m\u001b[0;34m,\u001b[0m \u001b[0;36m2\u001b[0m\u001b[0;34m,\u001b[0m \u001b[0;36m3\u001b[0m\u001b[0;34m]\u001b[0m\u001b[0;34m\u001b[0m\u001b[0;34m\u001b[0m\u001b[0m\n\u001b[0;32m----> 2\u001b[0;31m \u001b[0mnext\u001b[0m\u001b[0;34m(\u001b[0m\u001b[0ml\u001b[0m\u001b[0;34m)\u001b[0m\u001b[0;34m\u001b[0m\u001b[0;34m\u001b[0m\u001b[0m\n\u001b[0m",
            "\u001b[0;31mTypeError\u001b[0m: 'list' object is not an iterator"
          ]
        }
      ],
      "source": [
        "l = [1, 2, 3]\n",
        "next(l) #список iterable, но не итератор"
      ]
    },
    {
      "cell_type": "markdown",
      "metadata": {
        "id": "OT7BVsDuMc3N"
      },
      "source": [
        "Где можно встретить итераторы? Да на самом деле много где!\n",
        "\n",
        "Например, функция zip возвращает итератор:"
      ]
    },
    {
      "cell_type": "code",
      "execution_count": 8,
      "metadata": {
        "colab": {
          "base_uri": "https://localhost:8080/"
        },
        "id": "oQniCjrDMhW3",
        "outputId": "568ba44d-1d61-401b-a049-a034d515e830"
      },
      "outputs": [
        {
          "name": "stdout",
          "output_type": "stream",
          "text": [
            "(1, 1)\n",
            "(2, 2)\n",
            "(3, 3)\n"
          ]
        }
      ],
      "source": [
        "a = [1, 2, 3]\n",
        "b = [1, 2, 3]\n",
        "c = zip(a, b)\n",
        "print(next(c))\n",
        "print(next(c))\n",
        "print(next(c))"
      ]
    },
    {
      "cell_type": "markdown",
      "metadata": {
        "id": "QtmMtONGMptv"
      },
      "source": [
        "А также есть функция enumerate() - она делает нумерацию элементов, что можно впоследствие использовать внутри for:"
      ]
    },
    {
      "cell_type": "code",
      "execution_count": 9,
      "metadata": {
        "colab": {
          "base_uri": "https://localhost:8080/"
        },
        "id": "ya81LwQ4MkvD",
        "outputId": "3137b4ef-8f30-4362-e402-79da76d06a36"
      },
      "outputs": [
        {
          "name": "stdout",
          "output_type": "stream",
          "text": [
            "(0, 4)\n",
            "(1, 5)\n",
            "(2, 6)\n"
          ]
        }
      ],
      "source": [
        "k = [4, 5, 6]\n",
        "k_e = enumerate(k)\n",
        "print(next(k_e))\n",
        "print(next(k_e))\n",
        "print(next(k_e))"
      ]
    },
    {
      "cell_type": "code",
      "execution_count": 10,
      "metadata": {
        "colab": {
          "base_uri": "https://localhost:8080/"
        },
        "id": "eKc3NA8YM7tQ",
        "outputId": "920adc5e-cd03-4bc9-d6ef-57958b4633e0"
      },
      "outputs": [
        {
          "name": "stdout",
          "output_type": "stream",
          "text": [
            "0 4\n",
            "1 5\n",
            "2 6\n"
          ]
        }
      ],
      "source": [
        "for num, el in enumerate(k):\n",
        "    print(num, el)"
      ]
    },
    {
      "cell_type": "markdown",
      "metadata": {
        "id": "3EC2WocBnk6b"
      },
      "source": [
        "## Генераторы"
      ]
    },
    {
      "cell_type": "markdown",
      "metadata": {
        "id": "-Pu_cGgTnn1K"
      },
      "source": [
        "Гораздо интереснее посмотреть на генераторы. По сути, такой же итератор, так сказать, потому что любой генератор можно сделать с помощью итератора\n",
        "\n",
        "Как распознать генератор? Простым словом yield!"
      ]
    },
    {
      "cell_type": "code",
      "execution_count": null,
      "metadata": {
        "colab": {
          "base_uri": "https://localhost:8080/",
          "height": 307
        },
        "id": "nBEn93pXoNtG",
        "outputId": "fd730d45-7e3f-4616-9afe-a14f92f5ee62"
      },
      "outputs": [
        {
          "name": "stdout",
          "output_type": "stream",
          "text": [
            "Какапо\n",
            "Кеа\n",
            "Ара\n",
            "Какаду\n",
            "Корелла\n"
          ]
        },
        {
          "ename": "StopIteration",
          "evalue": "ignored",
          "output_type": "error",
          "traceback": [
            "\u001b[0;31m---------------------------------------------------------------------------\u001b[0m",
            "\u001b[0;31mStopIteration\u001b[0m                             Traceback (most recent call last)",
            "\u001b[0;32m<ipython-input-29-0c79d8c51558>\u001b[0m in \u001b[0;36m<module>\u001b[0;34m\u001b[0m\n\u001b[1;32m     12\u001b[0m \u001b[0mprint\u001b[0m\u001b[0;34m(\u001b[0m\u001b[0mnext\u001b[0m\u001b[0;34m(\u001b[0m\u001b[0ms\u001b[0m\u001b[0;34m)\u001b[0m\u001b[0;34m)\u001b[0m\u001b[0;34m\u001b[0m\u001b[0;34m\u001b[0m\u001b[0m\n\u001b[1;32m     13\u001b[0m \u001b[0mprint\u001b[0m\u001b[0;34m(\u001b[0m\u001b[0mnext\u001b[0m\u001b[0;34m(\u001b[0m\u001b[0ms\u001b[0m\u001b[0;34m)\u001b[0m\u001b[0;34m)\u001b[0m\u001b[0;34m\u001b[0m\u001b[0;34m\u001b[0m\u001b[0m\n\u001b[0;32m---> 14\u001b[0;31m \u001b[0mprint\u001b[0m\u001b[0;34m(\u001b[0m\u001b[0mnext\u001b[0m\u001b[0;34m(\u001b[0m\u001b[0ms\u001b[0m\u001b[0;34m)\u001b[0m\u001b[0;34m)\u001b[0m \u001b[0;31m# опа, знакомая нам ошибка\u001b[0m\u001b[0;34m\u001b[0m\u001b[0;34m\u001b[0m\u001b[0m\n\u001b[0m",
            "\u001b[0;31mStopIteration\u001b[0m: "
          ]
        }
      ],
      "source": [
        "def simple_gen():\n",
        "    yield \"Какапо\"\n",
        "    yield \"Кеа\"\n",
        "    yield \"Ара\"\n",
        "    yield \"Какаду\"\n",
        "    yield \"Корелла\"\n",
        "\n",
        "s = simple_gen()\n",
        "print(next(s))\n",
        "print(next(s))\n",
        "print(next(s))\n",
        "print(next(s))\n",
        "print(next(s))\n",
        "print(next(s)) # опа, знакомая нам ошибка\n"
      ]
    },
    {
      "cell_type": "markdown",
      "metadata": {
        "id": "_USnaMOoorom"
      },
      "source": [
        "Как работает генератор, что за yield?\n",
        "\n",
        "Все просто:\n",
        "\n",
        "Мы вызываем функцию. Когда он доходит до yield, то выдает значение. После этого функция переходит как бы в режим ожидания. Когда мы ее вызываем в следующий раз, он начинает с места, где закончил и продолжает. Как закончить жизнь генератора? Сделать return"
      ]
    },
    {
      "cell_type": "code",
      "execution_count": null,
      "metadata": {
        "colab": {
          "base_uri": "https://localhost:8080/"
        },
        "id": "X2kUdOBDpRW9",
        "outputId": "dbe04b4a-32d3-478f-ea8b-81f22cb716f0"
      },
      "outputs": [
        {
          "name": "stdout",
          "output_type": "stream",
          "text": [
            "<generator object fibonacci at 0x7f4327abbe50>\n",
            "0 1 1 2 3 5 "
          ]
        }
      ],
      "source": [
        "def fibonacci(n):\n",
        "    a, b, counter = 0, 1, 0\n",
        "    while True:\n",
        "        if (counter > n):\n",
        "            return\n",
        "        yield a\n",
        "        a, b = b, a + b\n",
        "        counter += 1\n",
        "\n",
        "f = fibonacci(5)\n",
        "print(f)\n",
        "for x in f:\n",
        "    print(x, end=\" \")"
      ]
    },
    {
      "cell_type": "markdown",
      "metadata": {
        "id": "yUGJBP6zrNx2"
      },
      "source": [
        "Ну хорошо, в нашем первом примере как-то это явно неудобно, писать кучу строк... А можно, на самом деле, сделать вот такую штуку:"
      ]
    },
    {
      "cell_type": "code",
      "execution_count": null,
      "metadata": {
        "colab": {
          "base_uri": "https://localhost:8080/"
        },
        "id": "A1JTCWnSsB4E",
        "outputId": "8cc7791a-9f00-4c94-c162-19298f0b1cca"
      },
      "outputs": [
        {
          "name": "stdout",
          "output_type": "stream",
          "text": [
            "Какапо\n",
            "Кеа\n",
            "Ара\n",
            "Какаду\n",
            "Корелла\n"
          ]
        }
      ],
      "source": [
        "def simple_gen():\n",
        "    yield from [\"Какапо\", \"Кеа\", \"Ара\", \"Какаду\", \"Корелла\"] #yield from работает только с iterable объектами\n",
        "\n",
        "s = simple_gen()\n",
        "print(next(s))\n",
        "print(next(s))\n",
        "print(next(s))\n",
        "print(next(s))\n",
        "print(next(s))"
      ]
    },
    {
      "cell_type": "markdown",
      "metadata": {
        "id": "Y8GMBkd7soKV"
      },
      "source": [
        "Что еще крутого есть в генераторах? Для итераторов мы можем только ходить по значениям и делать с ними что-то (итерироваться). А вот в генераторы мы можем отправлять значения!\n",
        "\n",
        "В чем прикол: на самом деле yield не только дает значения, но и послыает значения. Если воспринимать генератор как итератор, то разницы никакой, в общем-то, а вот если расширять функции генератора, то не совсем.\n",
        "\n",
        "По дефолту yield выдает None, а поскольку мы ничего с этим не делаем, то как бы и ок. Но мы можем отправить что-то с помощью send(), и таким образом, модернизировать значения!"
      ]
    },
    {
      "cell_type": "code",
      "execution_count": null,
      "metadata": {
        "colab": {
          "base_uri": "https://localhost:8080/"
        },
        "id": "3pU2RizrsT5B",
        "outputId": "bab751cf-1673-4bb3-b732-70a62c4fad71"
      },
      "outputs": [
        {
          "name": "stdout",
          "output_type": "stream",
          "text": [
            "2.10, 2.40, 2.70, 3.00, 3.30, 3.60, 3.90, 4.20, 4.50, 4.80, \n",
            "set current count value to another value:\n",
            "102.50, 104.50, 106.50, 108.50, 110.50, 112.50, 114.50, 116.50, 118.50, 120.50, "
          ]
        }
      ],
      "source": [
        "def count(firstval=0, step=1):\n",
        "    counter = firstval\n",
        "    while True:\n",
        "        new_counter_val = yield counter # здесь возвращается либо None, либо результат send\n",
        "        if new_counter_val is None:\n",
        "            counter += step\n",
        "        else:\n",
        "            counter = new_counter_val[0]\n",
        "            step = new_counter_val[1]\n",
        "\n",
        "start_value = 2.1\n",
        "step_value = 0.3\n",
        "counter = count(start_value, step_value)\n",
        "for i in range(10):\n",
        "    new_value = next(counter)\n",
        "    print(f\"{new_value:2.2f}\", end=\", \")\n",
        "\n",
        "print()\n",
        "print(\"set current count value to another value:\")\n",
        "counter.send((100.5, 2)) # ооотправляем посылочку\n",
        "for i in range(10):\n",
        "    new_value = next(counter)\n",
        "    print(f\"{new_value:2.2f}\", end=\", \")"
      ]
    },
    {
      "cell_type": "markdown",
      "metadata": {
        "id": "yLCNxcgQuzVK"
      },
      "source": [
        "А еще можем вкидывать ошибки)))"
      ]
    },
    {
      "cell_type": "code",
      "execution_count": null,
      "metadata": {
        "colab": {
          "base_uri": "https://localhost:8080/"
        },
        "id": "NvmQDH_Uu3Ad",
        "outputId": "d1b308eb-216d-47a3-f668-e1a6b2b681d4"
      },
      "outputs": [
        {
          "name": "stdout",
          "output_type": "stream",
          "text": [
            "0\n",
            "1\n",
            "2\n",
            "3\n",
            "4\n",
            "5\n",
            "Our state\n",
            "(0, 1, 5)\n",
            "5\n",
            "6\n",
            "7\n"
          ]
        }
      ],
      "source": [
        "def count(firstval=0, step=1):\n",
        "    counter = firstval\n",
        "    while True:\n",
        "        try:\n",
        "            new_counter_val = yield counter\n",
        "            if new_counter_val is None:\n",
        "                counter += step\n",
        "            else:\n",
        "                counter = new_counter_val\n",
        "        except Exception:\n",
        "            yield (firstval, step, counter)\n",
        "\n",
        "c = count()\n",
        "for i in range(6):\n",
        "    print(next(c))\n",
        "print(\"Our state\")\n",
        "state_of_count = c.throw(Exception)\n",
        "print(state_of_count)\n",
        "for i in range(3):\n",
        "    print(next(c))"
      ]
    },
    {
      "cell_type": "markdown",
      "metadata": {
        "id": "Dm9o_pBvvQMD"
      },
      "source": [
        "И на всякий случай, с чего начали, к тому и пришли: генераторы тоже можно передавать в качестве аргументов функции!"
      ]
    },
    {
      "cell_type": "code",
      "execution_count": null,
      "metadata": {
        "colab": {
          "base_uri": "https://localhost:8080/"
        },
        "id": "W5d1pWdFvXxX",
        "outputId": "bb8ac7b4-d838-48e3-dab2-fbb41d609e9a"
      },
      "outputs": [
        {
          "name": "stdout",
          "output_type": "stream",
          "text": [
            "['Какапо', 'Кеа', 'Ара']\n"
          ]
        }
      ],
      "source": [
        "def firstn(generator, n):\n",
        "    g = generator()\n",
        "    for i in range(n):\n",
        "        yield next(g)\n",
        "\n",
        "print(list(firstn(simple_gen, 3)))"
      ]
    },
    {
      "cell_type": "markdown",
      "metadata": {
        "id": "kld3ajmVPpLP"
      },
      "source": [
        "А зачем нам в целом нужны генераторы и итераторы? На самом деле причина одна (но очень важная) - экономия памяти. Генератор и итератор хранят только 1 значение во времени (ей не треубется хранить все, что есть)\n",
        "\n",
        "Давайте на примере:"
      ]
    },
    {
      "cell_type": "code",
      "execution_count": 11,
      "metadata": {
        "colab": {
          "base_uri": "https://localhost:8080/"
        },
        "id": "Q05RrBtDP8CV",
        "outputId": "fa7e8963-f6fc-4f4b-e081-fdf5ec431f49"
      },
      "outputs": [
        {
          "data": {
            "text/plain": [
              "85176"
            ]
          },
          "execution_count": 11,
          "metadata": {},
          "output_type": "execute_result"
        }
      ],
      "source": [
        "import sys\n",
        "nums_squared_lc = [i * 2 for i in range(10000)]\n",
        "sys.getsizeof(nums_squared_lc) ##выдает сколько памяти в байтах занимает"
      ]
    },
    {
      "cell_type": "code",
      "execution_count": 12,
      "metadata": {
        "colab": {
          "base_uri": "https://localhost:8080/"
        },
        "id": "s8hXv90oP8xJ",
        "outputId": "abd96e6f-0626-4ddc-c9e3-30d30dd0fd41"
      },
      "outputs": [
        {
          "name": "stdout",
          "output_type": "stream",
          "text": [
            "104\n"
          ]
        }
      ],
      "source": [
        "nums_squared_gc = (i ** 2 for i in range(10000)) # по существу это все генератор...\n",
        "print(sys.getsizeof(nums_squared_gc))"
      ]
    }
  ],
  "metadata": {
    "colab": {
      "provenance": []
    },
    "kernelspec": {
      "display_name": "Python 3",
      "name": "python3"
    },
    "language_info": {
      "name": "python"
    }
  },
  "nbformat": 4,
  "nbformat_minor": 0
}
