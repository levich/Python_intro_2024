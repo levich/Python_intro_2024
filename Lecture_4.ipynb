{
  "cells": [
    {
      "cell_type": "markdown",
      "metadata": {
        "id": "vNu_IYXVKq7F"
      },
      "source": [
        "# Python-1, Лекция 4\n",
        "\n"
      ]
    },
    {
      "cell_type": "markdown",
      "metadata": {
        "id": "QvBOchSFKwMR"
      },
      "source": [
        "Сегодня поговорим про функции, рекурсии, а также про такую вещь, как декораторы"
      ]
    },
    {
      "cell_type": "markdown",
      "metadata": {
        "id": "xGR5BWjwyWFm"
      },
      "source": [
        "## Функции"
      ]
    },
    {
      "cell_type": "markdown",
      "metadata": {
        "id": "27ksqJSCy6JC"
      },
      "source": [
        "Что такое функция? Функция - это некоторый объект, который принимает на вход значения и выполняющий некоторые действия (возможно, возвращая что-то). Почему на это нужно обратить внимание?\n",
        "\n",
        "Внутри многих языков (например, C++) есть разница между *функцией* и *процедурой*. В чем глобальная разница? Функция что-то возвращает, процедура - нет. Так вот:\n",
        "\n",
        "**В Python между процедурой и функцией нет совершенно никакой разницы**"
      ]
    },
    {
      "cell_type": "markdown",
      "metadata": {
        "id": "7IZsyVtbzrpy"
      },
      "source": [
        "Нотация:\n",
        "\n",
        "```\n",
        "def <name>(args): #название функции (то, что это функция - говорит название def, args - это аргументы)\n",
        "    <actions>\n",
        "    [return <smth>] #(вернуть какое-то значение)\n",
        "```"
      ]
    },
    {
      "cell_type": "code",
      "execution_count": 1,
      "metadata": {
        "colab": {
          "base_uri": "https://localhost:8080/",
          "height": 36
        },
        "id": "6C4pHYxJKn23",
        "outputId": "bac3ca59-da53-4f6f-e603-b4865e94ff55"
      },
      "outputs": [
        {
          "data": {
            "text/plain": [
              "'Hello!'"
            ]
          },
          "execution_count": 1,
          "metadata": {},
          "output_type": "execute_result"
        }
      ],
      "source": [
        "def hello():\n",
        "    return \"Hello!\" # В качестве return может быть что угодно\n",
        "\n",
        "hello()"
      ]
    },
    {
      "cell_type": "markdown",
      "metadata": {
        "id": "eQGrAVNZ0G9g"
      },
      "source": [
        "Что такое аргументы и какие они бывают?\n",
        "\n",
        "Аргументы - это значения, которые принимает функция и использует их\n",
        "\n",
        "Аргументы бывают:\n",
        "\n",
        "* позиционные\n",
        "\n",
        "* именованные\n",
        "\n",
        "В чем различие? Именованные имеют некоторое значение по умолчанию, позицонные - нет"
      ]
    },
    {
      "cell_type": "code",
      "execution_count": 2,
      "metadata": {
        "colab": {
          "base_uri": "https://localhost:8080/",
          "height": 36
        },
        "id": "RNLflXDq0vJS",
        "outputId": "2c309b56-6333-4a12-d569-0aad52e1b7de"
      },
      "outputs": [
        {
          "data": {
            "text/plain": [
              "'Hello, Petrov Timur'"
            ]
          },
          "execution_count": 2,
          "metadata": {},
          "output_type": "execute_result"
        }
      ],
      "source": [
        "def hello(name, surname=\"Mr/Mrs\"): # первый аргумент - позиционный, второй - именованный\n",
        "    return \"Hello, \" + surname + \" \" + name\n",
        "\n",
        "hello(\"Timur\", \"Petrov\")"
      ]
    },
    {
      "cell_type": "markdown",
      "metadata": {
        "id": "Q_N-5v9T1CIc"
      },
      "source": [
        "Зачем делать такое различие? На то есть несколько причин:\n",
        "\n",
        "1. Порядок. Позиционные аргументы всегда идут перед именованными! Также и при вызове: вначале указываем позиционные аргументы, а только потом именованные\n"
      ]
    },
    {
      "cell_type": "code",
      "execution_count": 5,
      "metadata": {
        "colab": {
          "base_uri": "https://localhost:8080/",
          "height": 147
        },
        "id": "ObBP7Def1NSO",
        "outputId": "52e22db0-5acc-4019-f851-d3f9340b26d0"
      },
      "outputs": [
        {
          "ename": "SyntaxError",
          "evalue": "parameter without a default follows parameter with a default (17578590.py, line 1)",
          "output_type": "error",
          "traceback": [
            "\u001b[0;36m  Cell \u001b[0;32mIn[5], line 1\u001b[0;36m\u001b[0m\n\u001b[0;31m    def hello(surname=\"Mr/Mrs\", name): # первый аргумент - позиционный, второй - именованный\u001b[0m\n\u001b[0m                                ^\u001b[0m\n\u001b[0;31mSyntaxError\u001b[0m\u001b[0;31m:\u001b[0m parameter without a default follows parameter with a default\n"
          ]
        }
      ],
      "source": [
        "def hello(surname=\"Mr/Mrs\", name): # первый аргумент - позиционный, второй - именованный\n",
        "    return \"Hello, \" + surname + \" \" + name\n",
        "\n",
        "hello(\"Timur\", \"Petrov\")"
      ]
    },
    {
      "cell_type": "code",
      "execution_count": 7,
      "metadata": {
        "colab": {
          "base_uri": "https://localhost:8080/",
          "height": 147
        },
        "id": "d7joo66G1Xax",
        "outputId": "8584192c-b33a-4a29-a07f-0de8d306af5d"
      },
      "outputs": [
        {
          "ename": "SyntaxError",
          "evalue": "positional argument follows keyword argument (3417309051.py, line 4)",
          "output_type": "error",
          "traceback": [
            "\u001b[0;36m  Cell \u001b[0;32mIn[7], line 4\u001b[0;36m\u001b[0m\n\u001b[0;31m    hello(surname = \"Petrov\", \"Timur\")\u001b[0m\n\u001b[0m                                     ^\u001b[0m\n\u001b[0;31mSyntaxError\u001b[0m\u001b[0;31m:\u001b[0m positional argument follows keyword argument\n"
          ]
        }
      ],
      "source": [
        "def hello(name, surname=\"Mr/Mrs\"): # первый аргумент - позиционный, второй - именованный\n",
        "    return \"Hello, \" + surname + \" \" + name\n",
        "\n",
        "hello(surname = \"Petrov\", \"Timur\")"
      ]
    },
    {
      "cell_type": "code",
      "execution_count": 8,
      "metadata": {
        "colab": {
          "base_uri": "https://localhost:8080/",
          "height": 36
        },
        "id": "juKQUC0-1dfc",
        "outputId": "9231ec70-a729-4c76-a62e-4cb2ea125e2f"
      },
      "outputs": [
        {
          "data": {
            "text/plain": [
              "'Hello, Petrov Timur'"
            ]
          },
          "execution_count": 8,
          "metadata": {},
          "output_type": "execute_result"
        }
      ],
      "source": [
        "def hello(name, surname=\"Mr/Mrs\"): # первый аргумент - позиционный, второй - именованный\n",
        "    return \"Hello, \" + surname + \" \" + name\n",
        "\n",
        "hello(surname = \"Petrov\", name = \"Timur\") # а вот так сработает\n",
        "# Вне зависимости от того, позицонные или именованный аргумент, значение можно дать через обращение к названию аргументы"
      ]
    },
    {
      "cell_type": "markdown",
      "metadata": {
        "id": "lCS6smOt1sKx"
      },
      "source": [
        "2. Необходимость указывать его при вызове функции. В случае, если для позицонного обязательно надо задать значение, то для именованного - необязательно, тогда он подставит то значение, которое было по дефолту"
      ]
    },
    {
      "cell_type": "code",
      "execution_count": 9,
      "metadata": {
        "colab": {
          "base_uri": "https://localhost:8080/",
          "height": 36
        },
        "id": "EUIutSt413GW",
        "outputId": "23a083d8-e026-4ccf-f319-9d45b8c5bfd6"
      },
      "outputs": [
        {
          "data": {
            "text/plain": [
              "'Hello, Mr/Mrs Timur'"
            ]
          },
          "execution_count": 9,
          "metadata": {},
          "output_type": "execute_result"
        }
      ],
      "source": [
        "def hello(name, surname=\"Mr/Mrs\"): # первый аргумент - позиционный, второй - именованный\n",
        "    return \"Hello, \" + surname + \" \" + name\n",
        "\n",
        "hello(\"Timur\")"
      ]
    },
    {
      "cell_type": "markdown",
      "metadata": {
        "id": "nrNz5N5C2B3f"
      },
      "source": [
        "Таким образом мы можем задавать определенное число аргументов, которое можно передавать в функцию\n",
        "\n",
        "Но допустим, что мы передали неизвестное число аргументов, что тогда делать? Для этого еще есть args и kwargs:"
      ]
    },
    {
      "cell_type": "code",
      "execution_count": 10,
      "metadata": {
        "colab": {
          "base_uri": "https://localhost:8080/"
        },
        "id": "qJ91Twi12Vrf",
        "outputId": "e92f75f8-5ba3-4b90-bdb6-397cbf1341b2"
      },
      "outputs": [
        {
          "name": "stdout",
          "output_type": "stream",
          "text": [
            "(1, 2, 3, 4) {'a': 5, 'b': 6}\n",
            "1 3 (4, 5) {'k': 2, 'l': 3}\n"
          ]
        }
      ],
      "source": [
        "def func(*args, **kwargs):\n",
        "    print(args, kwargs)\n",
        "\n",
        "func(1, 2, 3, 4, a = 5, b = 6)\n",
        "\n",
        "def func_new(a, b=2, *args, **kwargs):\n",
        "    print(a, b, args, kwargs)\n",
        "\n",
        "func_new(1, 3, 4, 5, k = 2, l = 3)"
      ]
    },
    {
      "cell_type": "markdown",
      "metadata": {
        "id": "fB-JrMqy3k2U"
      },
      "source": [
        "Что вообще происходит?\n",
        "\n",
        "*args - принимает все позиционные аргументы, которые не вошли в те значения, которые у нас есть\n",
        "\n",
        "**kwargs - принимает все именованные аргументы, которые не вошли в те значения, которые у нас есть"
      ]
    },
    {
      "cell_type": "markdown",
      "metadata": {
        "id": "qdtNLnPI4CwU"
      },
      "source": [
        "Вопрос на засыпку: что выведет вот этот код?"
      ]
    },
    {
      "cell_type": "code",
      "execution_count": 1,
      "metadata": {
        "id": "jlQ0rJHC4FUG"
      },
      "outputs": [
        {
          "ename": "TypeError",
          "evalue": "func_new() got multiple values for argument 'b'",
          "output_type": "error",
          "traceback": [
            "\u001b[0;31m---------------------------------------------------------------------------\u001b[0m",
            "\u001b[0;31mTypeError\u001b[0m                                 Traceback (most recent call last)",
            "Cell \u001b[0;32mIn[1], line 4\u001b[0m\n\u001b[1;32m      1\u001b[0m \u001b[38;5;28;01mdef\u001b[39;00m \u001b[38;5;21mfunc_new\u001b[39m(a, b\u001b[38;5;241m=\u001b[39m\u001b[38;5;241m2\u001b[39m, \u001b[38;5;241m*\u001b[39margs, \u001b[38;5;241m*\u001b[39m\u001b[38;5;241m*\u001b[39mkwargs):\n\u001b[1;32m      2\u001b[0m     \u001b[38;5;28mprint\u001b[39m(a, b, args, kwargs)\n\u001b[0;32m----> 4\u001b[0m \u001b[43mfunc_new\u001b[49m\u001b[43m(\u001b[49m\u001b[38;5;241;43m1\u001b[39;49m\u001b[43m,\u001b[49m\u001b[43m \u001b[49m\u001b[38;5;241;43m2\u001b[39;49m\u001b[43m,\u001b[49m\u001b[43m \u001b[49m\u001b[38;5;241;43m3\u001b[39;49m\u001b[43m,\u001b[49m\u001b[43m \u001b[49m\u001b[43mb\u001b[49m\u001b[43m \u001b[49m\u001b[38;5;241;43m=\u001b[39;49m\u001b[43m \u001b[49m\u001b[38;5;241;43m5\u001b[39;49m\u001b[43m,\u001b[49m\u001b[43m \u001b[49m\u001b[43mk\u001b[49m\u001b[43m \u001b[49m\u001b[38;5;241;43m=\u001b[39;49m\u001b[43m \u001b[49m\u001b[38;5;241;43m2\u001b[39;49m\u001b[43m,\u001b[49m\u001b[43m \u001b[49m\u001b[43ml\u001b[49m\u001b[43m \u001b[49m\u001b[38;5;241;43m=\u001b[39;49m\u001b[43m \u001b[49m\u001b[38;5;241;43m3\u001b[39;49m\u001b[43m)\u001b[49m\n",
            "\u001b[0;31mTypeError\u001b[0m: func_new() got multiple values for argument 'b'"
          ]
        }
      ],
      "source": [
        "def func_new(a, b=2, *args, **kwargs):\n",
        "    print(a, b, args, kwargs)\n",
        "\n",
        "func_new(1, 2, 3, b = 5, k = 2, l = 3)"
      ]
    },
    {
      "cell_type": "markdown",
      "metadata": {
        "id": "CoBNXwPx5hbW"
      },
      "source": [
        "Что такое операция * и **? (args и kwargs - это просто конвенция как их называть, на самом деле можно подставить что угодно)\n",
        "\n",
        "*-принять в себя переменное число значений\n",
        "\n",
        "**-принять в себя переменное число именнованных значений"
      ]
    },
    {
      "cell_type": "code",
      "execution_count": null,
      "metadata": {
        "colab": {
          "base_uri": "https://localhost:8080/"
        },
        "id": "aVmloB6I54xU",
        "outputId": "39b0e0dd-c4a5-4148-c5a1-d01248e12dea"
      },
      "outputs": [
        {
          "name": "stdout",
          "output_type": "stream",
          "text": [
            "1 [2, 3, 4]\n"
          ]
        }
      ],
      "source": [
        "a, *b = 1, 2, 3, 4 #не путать с ссылкой, как это работает с C++\n",
        "print(a, b)"
      ]
    },
    {
      "cell_type": "markdown",
      "metadata": {
        "id": "c-c3cOab_GFX"
      },
      "source": [
        "Можно ли вернуть сразу несколько значений? Конечно можно!"
      ]
    },
    {
      "cell_type": "code",
      "execution_count": null,
      "metadata": {
        "colab": {
          "base_uri": "https://localhost:8080/"
        },
        "id": "VGAxhZJQ_Iq-",
        "outputId": "38c6bc6c-0081-4dbd-c52a-12925c1df540"
      },
      "outputs": [
        {
          "data": {
            "text/plain": [
              "(3, 4)"
            ]
          },
          "execution_count": 42,
          "metadata": {},
          "output_type": "execute_result"
        }
      ],
      "source": [
        "def func(a, b):\n",
        "    return a + 1, b + 1\n",
        "\n",
        "func(2, 3) #возвращается кортеж из значений, котоыре вы решили вернуть"
      ]
    },
    {
      "cell_type": "markdown",
      "metadata": {
        "id": "0_N4A0CG7Zqy"
      },
      "source": [
        "### Локальные и глобальные переменные"
      ]
    },
    {
      "cell_type": "markdown",
      "metadata": {
        "id": "mUjfK66v7dIg"
      },
      "source": [
        "Каждый раз, когда мы говорим про функции, всегда всплывает вопрос: а какое тут разграничение между локальными и глобальными переменными?"
      ]
    },
    {
      "cell_type": "code",
      "execution_count": null,
      "metadata": {
        "colab": {
          "base_uri": "https://localhost:8080/",
          "height": 222
        },
        "id": "0LWu-b_w7kv3",
        "outputId": "61817108-dd42-4ba1-8499-74e0f0d59b4f"
      },
      "outputs": [
        {
          "ename": "NameError",
          "evalue": "ignored",
          "output_type": "error",
          "traceback": [
            "\u001b[0;31m---------------------------------------------------------------------------\u001b[0m",
            "\u001b[0;31mNameError\u001b[0m                                 Traceback (most recent call last)",
            "\u001b[0;32m<ipython-input-28-57d35a5815ca>\u001b[0m in \u001b[0;36m<cell line: 7>\u001b[0;34m()\u001b[0m\n\u001b[1;32m      5\u001b[0m \u001b[0;34m\u001b[0m\u001b[0m\n\u001b[1;32m      6\u001b[0m \u001b[0md\u001b[0m \u001b[0;34m=\u001b[0m \u001b[0mf\u001b[0m\u001b[0;34m(\u001b[0m\u001b[0;36m1\u001b[0m\u001b[0;34m,\u001b[0m \u001b[0;36m2\u001b[0m\u001b[0;34m)\u001b[0m\u001b[0;34m\u001b[0m\u001b[0;34m\u001b[0m\u001b[0m\n\u001b[0;32m----> 7\u001b[0;31m \u001b[0mprint\u001b[0m\u001b[0;34m(\u001b[0m\u001b[0mc\u001b[0m\u001b[0;34m)\u001b[0m\u001b[0;34m\u001b[0m\u001b[0;34m\u001b[0m\u001b[0m\n\u001b[0m",
            "\u001b[0;31mNameError\u001b[0m: name 'c' is not defined"
          ]
        }
      ],
      "source": [
        "def f(a, b):\n",
        "    c = a + b # локальная переменная\n",
        "    k = [a, b] # локальная переменная\n",
        "    return c\n",
        "\n",
        "d = f(1, 2)\n",
        "print(c)"
      ]
    },
    {
      "cell_type": "markdown",
      "metadata": {
        "id": "bzFqwjIU7zen"
      },
      "source": [
        "Все переменные, которые были созданы внутри функции - это локальные переменные (это значит, что вне функции к ним нельзя обратиться).\n",
        "\n",
        "Что с аргументами?"
      ]
    },
    {
      "cell_type": "code",
      "execution_count": null,
      "metadata": {
        "colab": {
          "base_uri": "https://localhost:8080/"
        },
        "id": "0fW8xfLt7-vP",
        "outputId": "93e3703a-dfcd-453f-d23d-6b93ad193040"
      },
      "outputs": [
        {
          "name": "stdout",
          "output_type": "stream",
          "text": [
            "42\n",
            "2 a [1, 2, 15]\n"
          ]
        }
      ],
      "source": [
        "def func(a, b, c):\n",
        "    a += 1\n",
        "    b += \"a\"\n",
        "    c.append(15)\n",
        "    return 42\n",
        "\n",
        "a = 2\n",
        "b = \"a\"\n",
        "c = [1, 2]\n",
        "print(func(a, b, c))\n",
        "print(a, b, c)"
      ]
    },
    {
      "cell_type": "markdown",
      "metadata": {
        "id": "3JYBV2yN8T9s"
      },
      "source": [
        "Хоба, что-то странное. Параметр a и параметр b не изменились, а вот c изменилось. Как так? Ну давайте посмотрим:"
      ]
    },
    {
      "cell_type": "code",
      "execution_count": null,
      "metadata": {
        "colab": {
          "base_uri": "https://localhost:8080/"
        },
        "id": "uDzh22dY7rkk",
        "outputId": "2faf0fd4-fc93-4075-b91a-a5a442eb1623"
      },
      "outputs": [
        {
          "name": "stdout",
          "output_type": "stream",
          "text": [
            "outside func\n",
            "a:  137120898351376\n",
            "b:  137120897170864\n",
            "c:  137119626375808\n",
            "------------------------------\n",
            "inside func\n",
            "a:  137120898351376\n",
            "b:  137120897170864\n",
            "c:  137119626375808\n",
            "42\n",
            "2 a [1, 2, 15]\n"
          ]
        }
      ],
      "source": [
        "def func(a, b, c):\n",
        "    print(\"inside func\")\n",
        "    print(\"a: \", id(a))\n",
        "    print(\"b: \", id(b))\n",
        "    print(\"c: \", id(c))\n",
        "    a += 1\n",
        "    b += \"a\"\n",
        "    c.append(15)\n",
        "    return 42\n",
        "\n",
        "a = 2\n",
        "b = \"a\"\n",
        "c = [1, 2]\n",
        "print(\"outside func\")\n",
        "print(\"a: \", id(a))\n",
        "print(\"b: \", id(b))\n",
        "print(\"c: \", id(c))\n",
        "print('-' * 30)\n",
        "print(func(a, b, c))\n",
        "print(a, b, c)"
      ]
    },
    {
      "cell_type": "markdown",
      "metadata": {
        "id": "BQ0tCTts800j"
      },
      "source": [
        "Что происходит при передаче аргументов в функцию? Мы передаем ссылку на место, откуда брать данные. А что дальше?\n",
        "\n",
        "А дальше все зависит от того, является ли объект изменяемым или нет. Если он неизменяемый - то при любой операции мы создаем новый объект. В случае изменяемого - то при операции мы не создаем новый объект\n",
        "\n",
        "Поэтому в одном случае у нас исходное значение не меняется, а вот в другом - меняется. С этим же связан еще один \"баг\":"
      ]
    },
    {
      "cell_type": "code",
      "execution_count": null,
      "metadata": {
        "colab": {
          "base_uri": "https://localhost:8080/"
        },
        "id": "b7pLGImT9YmV",
        "outputId": "142bda87-9e60-4abd-82ae-faef1295a28f"
      },
      "outputs": [
        {
          "name": "stdout",
          "output_type": "stream",
          "text": [
            "137120196726784\n",
            "['Jiafey sexy product']\n"
          ]
        }
      ],
      "source": [
        "def add_product(products=[]):\n",
        "    print(id(products))\n",
        "    products.append(\"Jiafey sexy product\")\n",
        "    return products\n",
        "\n",
        "print(add_product())"
      ]
    },
    {
      "cell_type": "code",
      "execution_count": null,
      "metadata": {
        "colab": {
          "base_uri": "https://localhost:8080/"
        },
        "id": "6nKkky9j9rKy",
        "outputId": "95b5cae4-aa14-4a03-8de3-d83a226c444e"
      },
      "outputs": [
        {
          "name": "stdout",
          "output_type": "stream",
          "text": [
            "137120196726784\n",
            "['Jiafey sexy product', 'Jiafey sexy product']\n"
          ]
        }
      ],
      "source": [
        "print(add_product())"
      ]
    },
    {
      "cell_type": "markdown",
      "metadata": {
        "id": "NfX-VIwm941f"
      },
      "source": [
        "Зашибись, правда? Дефолтное значение имеет свою ячейку памяти! А это значит, что если в качестве дефолтного параметра передать что-то изменяемое, то вот, пожалуйста, оно будет храниться. Как с этим бороться?"
      ]
    },
    {
      "cell_type": "code",
      "execution_count": null,
      "metadata": {
        "colab": {
          "base_uri": "https://localhost:8080/"
        },
        "id": "o5FIEVHA-ePu",
        "outputId": "f562b702-0927-4348-dd1c-dc18921ed6de"
      },
      "outputs": [
        {
          "name": "stdout",
          "output_type": "stream",
          "text": [
            "137119627370496\n",
            "['Jiafey sexy product']\n",
            "137119626810432\n",
            "['Jiafey sexy product']\n"
          ]
        }
      ],
      "source": [
        "def add_product(products=None):\n",
        "    if products is None:\n",
        "        products = [] # так мы всегда уверены, что создаем новый список\n",
        "    print(id(products))\n",
        "    products.append(\"Jiafey sexy product\")\n",
        "    return products\n",
        "\n",
        "print(add_product())\n",
        "print(add_product())"
      ]
    },
    {
      "cell_type": "markdown",
      "metadata": {
        "id": "FbMt_U7__aKV"
      },
      "source": [
        "Продолжаем с локальными и глобальными переменными:"
      ]
    },
    {
      "cell_type": "code",
      "execution_count": null,
      "metadata": {
        "colab": {
          "base_uri": "https://localhost:8080/"
        },
        "id": "XEtO_jtmBH2r",
        "outputId": "0d6e898a-2616-4c34-c101-1ffd9aeb9c37"
      },
      "outputs": [
        {
          "name": "stdout",
          "output_type": "stream",
          "text": [
            "USA\n",
            "Russia\n"
          ]
        }
      ],
      "source": [
        "def country():\n",
        "    s = \"USA\" # здесь локальная\n",
        "    print(s)\n",
        "\n",
        "s = \"Russia\"\n",
        "country()\n",
        "print(s) #здесь глобальная"
      ]
    },
    {
      "cell_type": "code",
      "execution_count": null,
      "metadata": {
        "colab": {
          "base_uri": "https://localhost:8080/",
          "height": 373
        },
        "id": "F8oJtqJkBTtE",
        "outputId": "b0e0ac72-7323-4d77-fcc3-3cb46915cc49"
      },
      "outputs": [
        {
          "ename": "UnboundLocalError",
          "evalue": "ignored",
          "output_type": "error",
          "traceback": [
            "\u001b[0;31m---------------------------------------------------------------------------\u001b[0m",
            "\u001b[0;31mUnboundLocalError\u001b[0m                         Traceback (most recent call last)",
            "\u001b[0;32m<ipython-input-45-9bb05d5bab29>\u001b[0m in \u001b[0;36m<cell line: 7>\u001b[0;34m()\u001b[0m\n\u001b[1;32m      5\u001b[0m \u001b[0;34m\u001b[0m\u001b[0m\n\u001b[1;32m      6\u001b[0m \u001b[0ms\u001b[0m \u001b[0;34m=\u001b[0m \u001b[0;34m\"Russia\"\u001b[0m\u001b[0;34m\u001b[0m\u001b[0;34m\u001b[0m\u001b[0m\n\u001b[0;32m----> 7\u001b[0;31m \u001b[0mcountry\u001b[0m\u001b[0;34m(\u001b[0m\u001b[0;34m)\u001b[0m\u001b[0;34m\u001b[0m\u001b[0;34m\u001b[0m\u001b[0m\n\u001b[0m\u001b[1;32m      8\u001b[0m \u001b[0mprint\u001b[0m\u001b[0;34m(\u001b[0m\u001b[0ms\u001b[0m\u001b[0;34m)\u001b[0m \u001b[0;31m#здесь глобальная\u001b[0m\u001b[0;34m\u001b[0m\u001b[0;34m\u001b[0m\u001b[0m\n",
            "\u001b[0;32m<ipython-input-45-9bb05d5bab29>\u001b[0m in \u001b[0;36mcountry\u001b[0;34m()\u001b[0m\n\u001b[1;32m      1\u001b[0m \u001b[0;32mdef\u001b[0m \u001b[0mcountry\u001b[0m\u001b[0;34m(\u001b[0m\u001b[0;34m)\u001b[0m\u001b[0;34m:\u001b[0m\u001b[0;34m\u001b[0m\u001b[0;34m\u001b[0m\u001b[0m\n\u001b[0;32m----> 2\u001b[0;31m     \u001b[0mprint\u001b[0m\u001b[0;34m(\u001b[0m\u001b[0ms\u001b[0m\u001b[0;34m)\u001b[0m\u001b[0;34m\u001b[0m\u001b[0;34m\u001b[0m\u001b[0m\n\u001b[0m\u001b[1;32m      3\u001b[0m     \u001b[0ms\u001b[0m \u001b[0;34m=\u001b[0m \u001b[0;34m\"USA\"\u001b[0m \u001b[0;31m# здесь локальная\u001b[0m\u001b[0;34m\u001b[0m\u001b[0;34m\u001b[0m\u001b[0m\n\u001b[1;32m      4\u001b[0m     \u001b[0mprint\u001b[0m\u001b[0;34m(\u001b[0m\u001b[0ms\u001b[0m\u001b[0;34m)\u001b[0m\u001b[0;34m\u001b[0m\u001b[0;34m\u001b[0m\u001b[0m\n\u001b[1;32m      5\u001b[0m \u001b[0;34m\u001b[0m\u001b[0m\n",
            "\u001b[0;31mUnboundLocalError\u001b[0m: local variable 's' referenced before assignment"
          ]
        }
      ],
      "source": [
        "def country():\n",
        "    print(s) # Выведет ошибку, потому что видит, что такая локальная переменная будет\n",
        "    s = \"USA\" # здесь локальная\n",
        "    print(s)\n",
        "\n",
        "s = \"Russia\"\n",
        "country()\n",
        "print(s) #здесь глобальная"
      ]
    },
    {
      "cell_type": "code",
      "execution_count": null,
      "metadata": {
        "colab": {
          "base_uri": "https://localhost:8080/"
        },
        "id": "0xXQ7y1OBZck",
        "outputId": "da44efef-df6a-4ed3-90b4-9cb8f7c02b5b"
      },
      "outputs": [
        {
          "name": "stdout",
          "output_type": "stream",
          "text": [
            "Russia\n",
            "Russia\n"
          ]
        }
      ],
      "source": [
        "def country():\n",
        "    print(s) # Если локальной нет, то выведет глобальную\n",
        "\n",
        "s = \"Russia\"\n",
        "country()\n",
        "print(s) #здесь глобальная"
      ]
    },
    {
      "cell_type": "markdown",
      "metadata": {
        "id": "s_5nQSoBBfCw"
      },
      "source": [
        "Что здесь важно? Функция \"просматривает\" локальные переменные, и если такая переменная есть, то она считается только локальной. Если такой нет, то берем глобальную\n",
        "\n",
        "Что можно сделать? Отдельно объявить переменную \"глобальной\" (но делая ее глобальной, учитывайте, что она будет меняться и вне)"
      ]
    },
    {
      "cell_type": "code",
      "execution_count": null,
      "metadata": {
        "colab": {
          "base_uri": "https://localhost:8080/"
        },
        "id": "3Qj9FtggByCT",
        "outputId": "ed7f5f8c-cc56-4af5-ec5b-b56da34411a8"
      },
      "outputs": [
        {
          "name": "stdout",
          "output_type": "stream",
          "text": [
            "Russia\n",
            "USA\n",
            "USA\n"
          ]
        }
      ],
      "source": [
        "def country():\n",
        "    global s\n",
        "    print(s)\n",
        "    s = \"USA\"\n",
        "    print(s)\n",
        "\n",
        "s = \"Russia\"\n",
        "country()\n",
        "print(s) #здесь глобальная"
      ]
    },
    {
      "cell_type": "markdown",
      "metadata": {
        "id": "D3J8wqBmd27e"
      },
      "source": [
        "### DocString"
      ]
    },
    {
      "cell_type": "markdown",
      "metadata": {
        "id": "csMdfUsVd4x1"
      },
      "source": [
        "Мы написали кучу функций, порадовались, закрыли проект. Приходит через неделю новый человек, которому надо в вашем коде что-то исправить или в целом использовать ваш код. Он смотрит на функции... И ничего не понимает: что, куда, как использовать. Что же делать?\n",
        "\n",
        "Наверное, нужно как-то описать функцию (помимо названия). Для этого существуют docstringи! Что это такое?\n",
        "\n",
        "Это описание функции!"
      ]
    },
    {
      "cell_type": "code",
      "execution_count": null,
      "metadata": {
        "colab": {
          "base_uri": "https://localhost:8080/"
        },
        "id": "k3wMbcROeQOX",
        "outputId": "9f4743fd-e830-4574-c240-fd7b6fcd5852"
      },
      "outputs": [
        {
          "name": "stdout",
          "output_type": "stream",
          "text": [
            "1\n"
          ]
        }
      ],
      "source": [
        "def f(x):\n",
        "    ''' Add 1 to our number''' # вот это docstring\n",
        "    return x + 1\n",
        "\n",
        "print(f(0))"
      ]
    },
    {
      "cell_type": "markdown",
      "metadata": {
        "id": "Kr3MqjOzedBd"
      },
      "source": [
        "Для большинства функций всегда есть docstring:"
      ]
    },
    {
      "cell_type": "code",
      "execution_count": null,
      "metadata": {
        "id": "JFgi2qwjegi_"
      },
      "outputs": [],
      "source": [
        "import numpy as np\n",
        "\n",
        "np.dot()"
      ]
    },
    {
      "cell_type": "markdown",
      "metadata": {
        "id": "NtYyEBzq7Jzz"
      },
      "source": [
        "### Лямбда-функции"
      ]
    },
    {
      "cell_type": "markdown",
      "metadata": {
        "id": "8HssTw237Lnl"
      },
      "source": [
        "Иногда наши фукции состоят из всего 1 строки, типа такого:"
      ]
    },
    {
      "cell_type": "code",
      "execution_count": null,
      "metadata": {
        "colab": {
          "base_uri": "https://localhost:8080/"
        },
        "id": "KlZCEXLUCydG",
        "outputId": "9d74334e-50bd-4a20-f2bf-e60e9d63e054"
      },
      "outputs": [
        {
          "name": "stdout",
          "output_type": "stream",
          "text": [
            "9\n",
            "[1, 2, 3, 4]\n"
          ]
        }
      ],
      "source": [
        "def pol(x, a, b, c):\n",
        "    return a * x ** 2 + b * x + c\n",
        "\n",
        "def make_input(s):\n",
        "    return list(map(int, s.split()))\n",
        "\n",
        "print(pol(1, 2, 3, 4))\n",
        "print(make_input(\"1 2 3 4\"))"
      ]
    },
    {
      "cell_type": "markdown",
      "metadata": {
        "id": "OFwv25grC_DS"
      },
      "source": [
        "Делать для нее отдельное название - удлинять код (хоть и выглядит достаточно логично и читабельно). Вот для таких штук созданы так называемые анонимные (или лямбда) функции. Как это выглядит?\n",
        "\n",
        "```\n",
        "lambda <args> : <action>\n",
        "```\n",
        "\n",
        "Для чего это удобно? Например, в ситуации, когда функция требуется нам всего лишь один раз"
      ]
    },
    {
      "cell_type": "code",
      "execution_count": null,
      "metadata": {
        "colab": {
          "base_uri": "https://localhost:8080/"
        },
        "id": "XPXUPeozD4VS",
        "outputId": "a668da3a-a596-491e-e614-c946c5816cd6"
      },
      "outputs": [
        {
          "name": "stdout",
          "output_type": "stream",
          "text": [
            "4.041075725336862\n"
          ]
        }
      ],
      "source": [
        "import math as m\n",
        "\n",
        "a = lambda x: x + m.sin(x)\n",
        "print(a(5))"
      ]
    },
    {
      "cell_type": "markdown",
      "metadata": {
        "id": "BY7gzmfbErhi"
      },
      "source": [
        "Чем это удобно? Допустим, что у нас есть ввод, содержащий числа, а нам надо вывести все квадраты чисел\n",
        "\n",
        "Решаем традиционным способом:"
      ]
    },
    {
      "cell_type": "code",
      "execution_count": null,
      "metadata": {
        "colab": {
          "base_uri": "https://localhost:8080/"
        },
        "id": "bgM7FeU-Ewar",
        "outputId": "e5518b99-6228-411d-f6d9-c1ee6e6de5a2"
      },
      "outputs": [
        {
          "name": "stdout",
          "output_type": "stream",
          "text": [
            "[1, 4, 9, 16, 25, 36, 49, 64, 81, 100]\n",
            "CPU times: user 0 ns, sys: 924 µs, total: 924 µs\n",
            "Wall time: 821 µs\n"
          ]
        }
      ],
      "source": [
        "%%time\n",
        "\n",
        "s = '1 2 3 4 5 6 7 8 9 10'\n",
        "res = list(map(int, s.split()))\n",
        "for i in range(0, len(res)):\n",
        "    res[i] **= 2\n",
        "print(res)"
      ]
    },
    {
      "cell_type": "markdown",
      "metadata": {
        "id": "mVhfJe_xFJJf"
      },
      "source": [
        "Делать лишний for - ну такое. А давайте вот так:"
      ]
    },
    {
      "cell_type": "code",
      "execution_count": null,
      "metadata": {
        "colab": {
          "base_uri": "https://localhost:8080/"
        },
        "id": "6PuQLpwCFNJ0",
        "outputId": "7316ab7c-7fb7-49fe-fb9c-a1b51914b37e"
      },
      "outputs": [
        {
          "name": "stdout",
          "output_type": "stream",
          "text": [
            "[1, 4, 9, 16, 25, 36, 49, 64, 81, 100]\n",
            "CPU times: user 120 µs, sys: 0 ns, total: 120 µs\n",
            "Wall time: 125 µs\n"
          ]
        }
      ],
      "source": [
        "%%time\n",
        "\n",
        "s = '1 2 3 4 5 6 7 8 9 10'\n",
        "res = list(map(lambda x: int(x) ** 2, s.split()))\n",
        "print(res)"
      ]
    },
    {
      "cell_type": "markdown",
      "metadata": {
        "id": "2Hx93hhmFxaM"
      },
      "source": [
        "Хоба! А мы тут функцию написали, и все сработало! (А еще лямбда-функция в целом быстрее)"
      ]
    },
    {
      "cell_type": "code",
      "execution_count": null,
      "metadata": {
        "colab": {
          "base_uri": "https://localhost:8080/"
        },
        "id": "s-_nNRODF0zw",
        "outputId": "686125e3-3234-43f6-8aea-09e016f9f7a0"
      },
      "outputs": [
        {
          "name": "stdout",
          "output_type": "stream",
          "text": [
            "[1, 4, 9, 16, 25, 36, 49, 64, 81, 100]\n",
            "CPU times: user 485 µs, sys: 30 µs, total: 515 µs\n",
            "Wall time: 465 µs\n"
          ]
        }
      ],
      "source": [
        "%%time\n",
        "\n",
        "def f(x):\n",
        "    return int(x) ** 2\n",
        "\n",
        "s = '1 2 3 4 5 6 7 8 9 10'\n",
        "res = list(map(f, s.split()))\n",
        "print(res)"
      ]
    },
    {
      "cell_type": "markdown",
      "metadata": {
        "id": "abnYKO-MDdCs"
      },
      "source": [
        "Для каких еще функций хорошо подходят лямбда-функции? Разберем еще 2 функции:\n",
        "\n",
        "* filter(f, values) - отфильтровать значения с помощью функции f"
      ]
    },
    {
      "cell_type": "code",
      "execution_count": null,
      "metadata": {
        "colab": {
          "base_uri": "https://localhost:8080/"
        },
        "id": "RAZkRnpGEh8W",
        "outputId": "96ea504d-a1bf-4689-f7c9-9ddb8c428097"
      },
      "outputs": [
        {
          "data": {
            "text/plain": [
              "[2, 3, 4]"
            ]
          },
          "execution_count": 9,
          "metadata": {},
          "output_type": "execute_result"
        }
      ],
      "source": [
        "a = [1, 2, 3, 4, 5]\n",
        "list(filter(lambda x: (x % 3 == 0) or (x % 2 == 0), a))"
      ]
    },
    {
      "cell_type": "markdown",
      "metadata": {
        "id": "1fGXTcqlEItj"
      },
      "source": [
        "* reduce(f, values) - поэлементная операция. Тут проще пояснить на примере (эту функцию ненавид даже создатель Python, Гвидо ван Россум)"
      ]
    },
    {
      "cell_type": "code",
      "execution_count": null,
      "metadata": {
        "colab": {
          "base_uri": "https://localhost:8080/"
        },
        "id": "lJ9tnlBwEtE2",
        "outputId": "7224cde5-0284-4e7d-8b6f-2db1e0c4df3e"
      },
      "outputs": [
        {
          "data": {
            "text/plain": [
              "15"
            ]
          },
          "execution_count": 6,
          "metadata": {},
          "output_type": "execute_result"
        }
      ],
      "source": [
        "from functools import reduce\n",
        "\n",
        "a = [1, 2, 3, 4, 5]\n",
        "reduce(lambda x, y: x + y, a) #аналогично сумме всех элементов в списке"
      ]
    },
    {
      "cell_type": "code",
      "execution_count": null,
      "metadata": {
        "colab": {
          "base_uri": "https://localhost:8080/"
        },
        "id": "ZRgIXLI-FfoR",
        "outputId": "390d9d2b-c43e-4659-fc5d-35d6fc6041f4"
      },
      "outputs": [
        {
          "data": {
            "text/plain": [
              "5"
            ]
          },
          "execution_count": 10,
          "metadata": {},
          "output_type": "execute_result"
        }
      ],
      "source": [
        "a = [1, 2, 3, 4, 5]\n",
        "reduce(lambda x, y: x + y if x + y < 5 else 5, a)"
      ]
    },
    {
      "cell_type": "code",
      "execution_count": 9,
      "metadata": {},
      "outputs": [
        {
          "name": "stdout",
          "output_type": "stream",
          "text": [
            "Guess a number from 1 to 1000\n",
            "Your number is 500 ?\n",
            "Your number is 249 ?\n",
            "Your number is 124 ?\n",
            "Your number is 61 ?\n",
            "Your number is 30 ?\n",
            "Your number is 14 ?\n",
            "Your number is 6 ?\n",
            "Your number is 2 ?\n",
            "Your number is 0 ?\n",
            "Your number is 1 ?\n",
            "Your number is 1 ?\n",
            "Your number is 1 ?\n",
            "Your number is 1 ?\n",
            "Your number is 1 ?\n",
            "Cool\n"
          ]
        }
      ],
      "source": [
        "miN = 0\n",
        "maX = 1000\n",
        "print(\"Guess a number from 1 to 1000\")\n",
        "while miN <= maX:\n",
        "    guess = (miN + maX) // 2\n",
        "    print(\"Your number is\", guess,\"?\")\n",
        "    answer = input(\"Print 'yes', if I am right. If not, then tell me is it 'bigger' или 'smaller': \")\n",
        "\n",
        "    if answer == 'yes':\n",
        "        print(\"Cool\")\n",
        "        break\n",
        "    elif answer == 'bigger':\n",
        "        miN = guess + 1\n",
        "    elif answer == 'smaller':\n",
        "        maX = guess - 1\n",
        "\n",
        "if miN > maX:\n",
        "    print(\"You print smth wrong\")"
      ]
    },
    {
      "cell_type": "markdown",
      "metadata": {
        "id": "cMWicYHVyXcx"
      },
      "source": [
        "## Рекурсия"
      ]
    },
    {
      "cell_type": "markdown",
      "metadata": {
        "id": "STGzQ6j-EoVk"
      },
      "source": [
        "Итак, у нас теперь есть функции, а значит мы можем делать рекурсии!\n",
        "\n",
        "Что такое рекурсия? Это функция, которая вызывает сама себя. А зачем это надо?\n",
        "\n",
        "Давайте разберем следующую задачу:\n",
        "\n",
        "У нас есть доска, 8x8. И есть кузнечик, который начинает в левом нижнем углу. он умеет ходить только на один шаг вправо или на 1 шаг вверх. Сколько вариантов у кузнечика дойти до правого верхнего угла?\n",
        "\n",
        "Вот здесь нам и помогают рекурсии!"
      ]
    },
    {
      "cell_type": "code",
      "execution_count": null,
      "metadata": {
        "colab": {
          "base_uri": "https://localhost:8080/"
        },
        "id": "W2aBSj-4VDs0",
        "outputId": "af5716ee-573f-4498-bce7-d799e129231e"
      },
      "outputs": [
        {
          "name": "stdout",
          "output_type": "stream",
          "text": [
            "3432\n"
          ]
        }
      ],
      "source": [
        "def jump_comb(f_x = 0, f_y = 0, l_x = 7, l_y = 7):\n",
        "    if (f_x == l_x) and (f_y == l_y):\n",
        "        return 1\n",
        "    elif f_x == l_x:\n",
        "        return jump_comb(f_x, f_y + 1, l_x, l_y)\n",
        "    elif f_y == l_y:\n",
        "        return jump_comb(f_x + 1, f_y, l_x, l_y)\n",
        "    return jump_comb(f_x + 1, f_y, l_x, l_y) + jump_comb(f_x, f_y + 1, l_x, l_y)\n",
        "\n",
        "print(jump_comb())"
      ]
    },
    {
      "cell_type": "markdown",
      "metadata": {
        "id": "WGKIHYx_V9Te"
      },
      "source": [
        "То есть это хорошо работает в ситуациях, когда у нас решение задачи зависит от решения **подзадач**, которые по существу то же самое, но с другим набором начальнго положения. Что важно для рекурсии?\n",
        "\n",
        "* Наличие критерия остановы (то есть некоторой ситуации, когда рекурсия кончается)\n",
        "\n",
        "* Решение исходной задачи зависит от подзадач"
      ]
    },
    {
      "cell_type": "markdown",
      "metadata": {
        "id": "6AwNOFU6WYV3"
      },
      "source": [
        "Что нам важно в контексте Python с точки зрения рекурсии?\n",
        "\n",
        "Давайте попробуем запустить вот такой код:"
      ]
    },
    {
      "cell_type": "code",
      "execution_count": null,
      "metadata": {
        "colab": {
          "base_uri": "https://localhost:8080/",
          "height": 416
        },
        "id": "HD7AddMEWip5",
        "outputId": "cdd24da9-e900-41a3-88ed-0d22f280bbad"
      },
      "outputs": [
        {
          "ename": "RecursionError",
          "evalue": "ignored",
          "output_type": "error",
          "traceback": [
            "\u001b[0;31m---------------------------------------------------------------------------\u001b[0m",
            "\u001b[0;31mRecursionError\u001b[0m                            Traceback (most recent call last)",
            "\u001b[0;32m<ipython-input-69-3f493268716a>\u001b[0m in \u001b[0;36m<cell line: 6>\u001b[0;34m()\u001b[0m\n\u001b[1;32m      4\u001b[0m     \u001b[0;32mreturn\u001b[0m \u001b[0madd\u001b[0m\u001b[0;34m(\u001b[0m\u001b[0mx\u001b[0m \u001b[0;34m+\u001b[0m \u001b[0;36m1\u001b[0m\u001b[0;34m)\u001b[0m\u001b[0;34m\u001b[0m\u001b[0;34m\u001b[0m\u001b[0m\n\u001b[1;32m      5\u001b[0m \u001b[0;34m\u001b[0m\u001b[0m\n\u001b[0;32m----> 6\u001b[0;31m \u001b[0madd\u001b[0m\u001b[0;34m(\u001b[0m\u001b[0;36m0\u001b[0m\u001b[0;34m)\u001b[0m\u001b[0;34m\u001b[0m\u001b[0;34m\u001b[0m\u001b[0m\n\u001b[0m",
            "\u001b[0;32m<ipython-input-69-3f493268716a>\u001b[0m in \u001b[0;36madd\u001b[0;34m(x)\u001b[0m\n\u001b[1;32m      2\u001b[0m     \u001b[0;32mif\u001b[0m \u001b[0mx\u001b[0m \u001b[0;34m==\u001b[0m \u001b[0;36m10000\u001b[0m\u001b[0;34m:\u001b[0m\u001b[0;34m\u001b[0m\u001b[0;34m\u001b[0m\u001b[0m\n\u001b[1;32m      3\u001b[0m         \u001b[0;32mreturn\u001b[0m \u001b[0mx\u001b[0m\u001b[0;34m\u001b[0m\u001b[0;34m\u001b[0m\u001b[0m\n\u001b[0;32m----> 4\u001b[0;31m     \u001b[0;32mreturn\u001b[0m \u001b[0madd\u001b[0m\u001b[0;34m(\u001b[0m\u001b[0mx\u001b[0m \u001b[0;34m+\u001b[0m \u001b[0;36m1\u001b[0m\u001b[0;34m)\u001b[0m\u001b[0;34m\u001b[0m\u001b[0;34m\u001b[0m\u001b[0m\n\u001b[0m\u001b[1;32m      5\u001b[0m \u001b[0;34m\u001b[0m\u001b[0m\n\u001b[1;32m      6\u001b[0m \u001b[0madd\u001b[0m\u001b[0;34m(\u001b[0m\u001b[0;36m0\u001b[0m\u001b[0;34m)\u001b[0m\u001b[0;34m\u001b[0m\u001b[0;34m\u001b[0m\u001b[0m\n",
            "... last 1 frames repeated, from the frame below ...\n",
            "\u001b[0;32m<ipython-input-69-3f493268716a>\u001b[0m in \u001b[0;36madd\u001b[0;34m(x)\u001b[0m\n\u001b[1;32m      2\u001b[0m     \u001b[0;32mif\u001b[0m \u001b[0mx\u001b[0m \u001b[0;34m==\u001b[0m \u001b[0;36m10000\u001b[0m\u001b[0;34m:\u001b[0m\u001b[0;34m\u001b[0m\u001b[0;34m\u001b[0m\u001b[0m\n\u001b[1;32m      3\u001b[0m         \u001b[0;32mreturn\u001b[0m \u001b[0mx\u001b[0m\u001b[0;34m\u001b[0m\u001b[0;34m\u001b[0m\u001b[0m\n\u001b[0;32m----> 4\u001b[0;31m     \u001b[0;32mreturn\u001b[0m \u001b[0madd\u001b[0m\u001b[0;34m(\u001b[0m\u001b[0mx\u001b[0m \u001b[0;34m+\u001b[0m \u001b[0;36m1\u001b[0m\u001b[0;34m)\u001b[0m\u001b[0;34m\u001b[0m\u001b[0;34m\u001b[0m\u001b[0m\n\u001b[0m\u001b[1;32m      5\u001b[0m \u001b[0;34m\u001b[0m\u001b[0m\n\u001b[1;32m      6\u001b[0m \u001b[0madd\u001b[0m\u001b[0;34m(\u001b[0m\u001b[0;36m0\u001b[0m\u001b[0;34m)\u001b[0m\u001b[0;34m\u001b[0m\u001b[0;34m\u001b[0m\u001b[0m\n",
            "\u001b[0;31mRecursionError\u001b[0m: maximum recursion depth exceeded in comparison"
          ]
        }
      ],
      "source": [
        "def add(x):\n",
        "    if x == 10000:\n",
        "        return x\n",
        "    return add(x + 1)\n",
        "\n",
        "add(0)"
      ]
    },
    {
      "cell_type": "markdown",
      "metadata": {
        "id": "V0J-IZSvWqhb"
      },
      "source": [
        "Код валидный, все нормально работает, что пошло не так? Внутри Python есть ограничение на глубину рекурсий (то есть сколько можно вызвать внутри себя функцию)"
      ]
    },
    {
      "cell_type": "code",
      "execution_count": null,
      "metadata": {
        "colab": {
          "base_uri": "https://localhost:8080/"
        },
        "id": "XjpAjjpyW4uH",
        "outputId": "fb754e5e-9217-4110-a2cc-0bacebdad9db"
      },
      "outputs": [
        {
          "name": "stdout",
          "output_type": "stream",
          "text": [
            "1000\n"
          ]
        }
      ],
      "source": [
        "import sys #библиотека sys позволяет посмотреть на различные специфические для системы значения\n",
        "# Более подробно: https://docs.python.org/3/library/sys.html\n",
        "\n",
        "print(sys.getrecursionlimit())  # позволяет получить максимальную глубину рекурсии"
      ]
    },
    {
      "cell_type": "markdown",
      "metadata": {
        "id": "CxRCSaZGW5rx"
      },
      "source": [
        "Внутреннее ограничение Python - 1000 (где-то может быть другим, можете посмотреть у себя, но обычно 1000)\n",
        "\n",
        "Допустим, что мы с вами знаем, что нам нужно больше (точно нельзя лучше). Что тогда делать? Праивльно - установить собственный лимит!"
      ]
    },
    {
      "cell_type": "code",
      "execution_count": null,
      "metadata": {
        "colab": {
          "base_uri": "https://localhost:8080/"
        },
        "id": "vOUn6lrfXYX8",
        "outputId": "1dce6041-ee57-471f-e64a-fd6e8edb8383"
      },
      "outputs": [
        {
          "name": "stdout",
          "output_type": "stream",
          "text": [
            "100000\n"
          ]
        }
      ],
      "source": [
        "sys.setrecursionlimit(100000)\n",
        "print(sys.getrecursionlimit())"
      ]
    },
    {
      "cell_type": "code",
      "execution_count": null,
      "metadata": {
        "colab": {
          "base_uri": "https://localhost:8080/"
        },
        "id": "QsT6ULYTXdHg",
        "outputId": "fb984192-2d9e-4835-8902-f62a7963fa35"
      },
      "outputs": [
        {
          "data": {
            "text/plain": [
              "10000"
            ]
          },
          "execution_count": 72,
          "metadata": {},
          "output_type": "execute_result"
        }
      ],
      "source": [
        "def add(x):\n",
        "    if x == 10000:\n",
        "        return x\n",
        "    return add(x + 1)\n",
        "\n",
        "add(0)"
      ]
    },
    {
      "cell_type": "markdown",
      "metadata": {
        "id": "DTYddAqHXe22"
      },
      "source": [
        "А вот теперь запустилось!\n",
        "\n",
        "Какие есть плюсы у рекурсии? Это достаточно просто написать)\n",
        "\n",
        "Какие минусы у рекурсии? Скорость\n",
        "\n",
        "То есть система запускает много вызов, их надо поддерживать, следить и так далее. Поэтому если вы знаете, что можно что-то сделать не рекурсией, то не делайте так\n",
        "\n",
        "На примере вычисления чисел Фибоначчи:"
      ]
    },
    {
      "cell_type": "code",
      "execution_count": null,
      "metadata": {
        "id": "9T9FJjZxX_bF"
      },
      "outputs": [],
      "source": [
        "def recursive_fib(n):\n",
        "    if n in (1, 2):\n",
        "        return 1\n",
        "    return recursive_fib(n - 1) + recursive_fib(n - 2)\n",
        "\n",
        "def func_fib(n):\n",
        "    if n in (1, 2):\n",
        "        return 1\n",
        "    res = [0 for _ in range(n)]\n",
        "    res[0], res[1] = 1, 1\n",
        "    for i in range(2, n):\n",
        "        res[i] = res[i - 1] + res[i - 2]\n",
        "    return res[n - 1]"
      ]
    },
    {
      "cell_type": "code",
      "execution_count": null,
      "metadata": {
        "colab": {
          "base_uri": "https://localhost:8080/"
        },
        "id": "ZJF1QaKxYtbP",
        "outputId": "4c95d150-3eb2-4a41-92c2-821170170fd3"
      },
      "outputs": [
        {
          "name": "stdout",
          "output_type": "stream",
          "text": [
            "832040\n",
            "CPU times: user 226 ms, sys: 0 ns, total: 226 ms\n",
            "Wall time: 230 ms\n"
          ]
        }
      ],
      "source": [
        "%%time\n",
        "\n",
        "print(recursive_fib(30))"
      ]
    },
    {
      "cell_type": "code",
      "execution_count": null,
      "metadata": {
        "colab": {
          "base_uri": "https://localhost:8080/"
        },
        "id": "Y3VQn2nGYyjt",
        "outputId": "75ea45db-83af-4aad-e09d-51563fd1cf26"
      },
      "outputs": [
        {
          "name": "stdout",
          "output_type": "stream",
          "text": [
            "832040\n",
            "CPU times: user 1.87 ms, sys: 0 ns, total: 1.87 ms\n",
            "Wall time: 1.87 ms\n"
          ]
        }
      ],
      "source": [
        "%%time\n",
        "\n",
        "print(func_fib(30))"
      ]
    },
    {
      "cell_type": "markdown",
      "metadata": {
        "id": "vzgl3YucY8YB"
      },
      "source": [
        "Разница в 200 раз... Ну вот как-то так)\n",
        "\n",
        "Давайте решим еще одну задачу (достаточно известную) - задачу о Ханойской башне (если успеем)\n",
        "\n",
        "![](https://upload.wikimedia.org/wikipedia/commons/thumb/0/07/Tower_of_Hanoi.jpeg/600px-Tower_of_Hanoi.jpeg)"
      ]
    },
    {
      "cell_type": "code",
      "execution_count": 1,
      "metadata": {
        "id": "bwQIdBEjF18J"
      },
      "outputs": [
        {
          "name": "stdout",
          "output_type": "stream",
          "text": [
            "Disk 1 from 1 to 3\n",
            "Disk 2 from 1 to 2\n",
            "Disk 1 from 3 to 2\n",
            "Disk 3 from 1 to 3\n",
            "Disk 1 from 2 to 1\n",
            "Disk 2 from 2 to 3\n",
            "Disk 1 from 1 to 3\n",
            "Disk 4 from 1 to 2\n",
            "Disk 1 from 3 to 2\n",
            "Disk 2 from 3 to 1\n",
            "Disk 1 from 2 to 1\n",
            "Disk 3 from 3 to 2\n",
            "Disk 1 from 1 to 3\n",
            "Disk 2 from 1 to 2\n",
            "Disk 1 from 3 to 2\n",
            "Disk 5 from 1 to 3\n",
            "Disk 1 from 2 to 1\n",
            "Disk 2 from 2 to 3\n",
            "Disk 1 from 1 to 3\n",
            "Disk 3 from 2 to 1\n",
            "Disk 1 from 3 to 2\n",
            "Disk 2 from 3 to 1\n",
            "Disk 1 from 2 to 1\n",
            "Disk 4 from 2 to 3\n",
            "Disk 1 from 1 to 3\n",
            "Disk 2 from 1 to 2\n",
            "Disk 1 from 3 to 2\n",
            "Disk 3 from 1 to 3\n",
            "Disk 1 from 2 to 1\n",
            "Disk 2 from 2 to 3\n",
            "Disk 1 from 1 to 3\n"
          ]
        }
      ],
      "source": [
        "# number of third disk: 6 - from_ - to_\n",
        "\n",
        "def hanoi(n, from_=1, to_=3):\n",
        "    if n == 1:\n",
        "        print(f'Disk {1} from {from_} to {to_}')\n",
        "        return\n",
        "    hanoi(n - 1, from_, 6 - from_ - to_)\n",
        "    print(f'Disk {n} from {from_} to {to_}')\n",
        "    hanoi(n - 1, 6 - from_ - to_, to_)\n",
        "\n",
        "hanoi(5)"
      ]
    },
    {
      "cell_type": "markdown",
      "metadata": {
        "id": "Bqs2Ev7SyY6F"
      },
      "source": [
        "## Декораторы"
      ]
    },
    {
      "cell_type": "markdown",
      "metadata": {
        "id": "_dZ_aLmwZEtl"
      },
      "source": [
        "Возвращаемся к мощности функций\n",
        "\n",
        "Можно ли вызвать функцию внутри функции? Да в целом да, нам ничего не мешает:"
      ]
    },
    {
      "cell_type": "code",
      "execution_count": null,
      "metadata": {
        "colab": {
          "base_uri": "https://localhost:8080/"
        },
        "id": "I9yl-A77dn1x",
        "outputId": "cba048d4-29af-4566-e078-ba818bc0f756"
      },
      "outputs": [
        {
          "data": {
            "text/plain": [
              "68.0"
            ]
          },
          "execution_count": 83,
          "metadata": {},
          "output_type": "execute_result"
        }
      ],
      "source": [
        "def get_far_temp(t):\n",
        "    '''Convert Celsius temperature to Fahrenheit'''\n",
        "    def convert_temp(x):\n",
        "        return 9 * x / 5 + 32\n",
        "\n",
        "    return convert_temp(t)\n",
        "\n",
        "get_far_temp(20)"
      ]
    },
    {
      "cell_type": "markdown",
      "metadata": {
        "id": "JgZaK3B2e22R"
      },
      "source": [
        "Можно ли обратиться к этой функции извне? Нельзя (опять-таки, все локально)"
      ]
    },
    {
      "cell_type": "code",
      "execution_count": null,
      "metadata": {
        "colab": {
          "base_uri": "https://localhost:8080/",
          "height": 185
        },
        "id": "C9I5_oZ1e5NY",
        "outputId": "92ac3c16-2548-44c2-bd0b-48f2c62bd078"
      },
      "outputs": [
        {
          "ename": "NameError",
          "evalue": "ignored",
          "output_type": "error",
          "traceback": [
            "\u001b[0;31m---------------------------------------------------------------------------\u001b[0m",
            "\u001b[0;31mNameError\u001b[0m                                 Traceback (most recent call last)",
            "\u001b[0;32m<ipython-input-84-3ce98c278910>\u001b[0m in \u001b[0;36m<cell line: 1>\u001b[0;34m()\u001b[0m\n\u001b[0;32m----> 1\u001b[0;31m \u001b[0mconvert_temp\u001b[0m\u001b[0;34m(\u001b[0m\u001b[0;36m150\u001b[0m\u001b[0;34m)\u001b[0m\u001b[0;34m\u001b[0m\u001b[0;34m\u001b[0m\u001b[0m\n\u001b[0m",
            "\u001b[0;31mNameError\u001b[0m: name 'convert_temp' is not defined"
          ]
        }
      ],
      "source": [
        "convert_temp(150)"
      ]
    },
    {
      "cell_type": "markdown",
      "metadata": {
        "id": "2xWi2r95fEAk"
      },
      "source": [
        "Зачем это нужно? Давайте разбираться\n",
        "\n",
        "Сама функция - это объект:"
      ]
    },
    {
      "cell_type": "code",
      "execution_count": null,
      "metadata": {
        "colab": {
          "base_uri": "https://localhost:8080/"
        },
        "id": "Bx26oNlFfTEM",
        "outputId": "90d77fe1-ab1f-4ebc-c1f8-a41946444c4f"
      },
      "outputs": [
        {
          "name": "stdout",
          "output_type": "stream",
          "text": [
            "<class 'function'>\n"
          ]
        }
      ],
      "source": [
        "print(type(get_far_temp))"
      ]
    },
    {
      "cell_type": "markdown",
      "metadata": {
        "id": "SZfpiC0yfZF3"
      },
      "source": [
        "А значит, что и переменная может быть функцией!"
      ]
    },
    {
      "cell_type": "code",
      "execution_count": null,
      "metadata": {
        "colab": {
          "base_uri": "https://localhost:8080/"
        },
        "id": "7K4YpydEfb9K",
        "outputId": "2ebf99e2-a027-44a0-b7f3-6af945ce3ace"
      },
      "outputs": [
        {
          "name": "stdout",
          "output_type": "stream",
          "text": [
            "<class 'function'>\n"
          ]
        }
      ],
      "source": [
        "a = get_far_temp\n",
        "print(type(a))"
      ]
    },
    {
      "cell_type": "markdown",
      "metadata": {
        "id": "Vtt-odvjffZE"
      },
      "source": [
        "А это значит, что можно использовать функции для создания функций. Давайте на примере (иначе, наверное, ничего непонятно)\n",
        "\n",
        "Хотим создать полином и проверять разные значения функции в точках. Делаем по классике:"
      ]
    },
    {
      "cell_type": "code",
      "execution_count": null,
      "metadata": {
        "colab": {
          "base_uri": "https://localhost:8080/"
        },
        "id": "WDpX1DuKfsw8",
        "outputId": "66998ffa-2b7e-40f6-9c30-82d2824f5b4f"
      },
      "outputs": [
        {
          "name": "stdout",
          "output_type": "stream",
          "text": [
            "6\n",
            "38\n"
          ]
        }
      ],
      "source": [
        "def get_value(x, *args):\n",
        "    result = 0\n",
        "    for i in range(len(args)):\n",
        "        result += x ** (len(args) - 1 - i) * args[i]\n",
        "    return result\n",
        "\n",
        "print(get_value(1, 1, 2, 3))\n",
        "print(get_value(5, 1, 2, 3))"
      ]
    },
    {
      "cell_type": "markdown",
      "metadata": {
        "id": "zjiG_WOggNeR"
      },
      "source": [
        "Каждый раз писать все аргументы и в целом их передавать.. Ну как-то слишком. Но для этого как раз и есть возможность писать функции внутри функции"
      ]
    },
    {
      "cell_type": "code",
      "execution_count": null,
      "metadata": {
        "colab": {
          "base_uri": "https://localhost:8080/"
        },
        "id": "6MgquqDzgVY5",
        "outputId": "95178ed1-6c21-43e6-bf40-2f1f9bdec2b0"
      },
      "outputs": [
        {
          "name": "stdout",
          "output_type": "stream",
          "text": [
            "38 6\n"
          ]
        }
      ],
      "source": [
        "def get_polinom(*args):\n",
        "    def get_value(x):\n",
        "        result = 0\n",
        "        for i in range(len(args)):\n",
        "            result += x ** (len(args) - 1 - i) * args[i]\n",
        "        return result\n",
        "    return get_value\n",
        "\n",
        "a = get_polinom(1, 2, 3)\n",
        "print(a(5), a(1))"
      ]
    },
    {
      "cell_type": "markdown",
      "metadata": {
        "id": "_O4w3AxJgu3C"
      },
      "source": [
        "Гораздо удобнее! На самом деле мы создали такую штуку, как декоратор\n",
        "\n",
        "Что такое декоратор? Если по-простому, то это обертка над функцией, которая расширяет функционал кода. Принимает в себя функцию и что-то делает.\n",
        "\n",
        "В качестве примера давайте попробуем создать какую-нибудь обертку, которая позволяет посчитать, сколько раз мы вызвали ту или иную функцию:"
      ]
    },
    {
      "cell_type": "code",
      "execution_count": null,
      "metadata": {
        "colab": {
          "base_uri": "https://localhost:8080/"
        },
        "id": "Wt6kLvalhwAW",
        "outputId": "e5f65b24-170b-415f-de49-7aae9d69406a"
      },
      "outputs": [
        {
          "name": "stdout",
          "output_type": "stream",
          "text": [
            "Inside decorator\n",
            "Hi bestie!\n",
            "Outside decorator\n",
            "1\n",
            "Inside decorator\n",
            "Hi bestie!\n",
            "Outside decorator\n",
            "2\n",
            "Inside decorator\n",
            "Hi bestie!\n",
            "Outside decorator\n",
            "3\n"
          ]
        }
      ],
      "source": [
        "def counter(f):\n",
        "    counter = 0\n",
        "    def wrapper():\n",
        "        nonlocal counter #обратите внимание на слово nonlocal - позволяет использовать переменные вне функции (по сути на уровень выше)\n",
        "        counter += 1\n",
        "        print(\"Inside decorator\")\n",
        "        f()\n",
        "        print(\"Outside decorator\")\n",
        "        print(counter)\n",
        "    return wrapper\n",
        "\n",
        "@counter #как можно записывать декораторы\n",
        "def hello():\n",
        "    print(\"Hi bestie!\")\n",
        "\n",
        "hello()\n",
        "hello()\n",
        "hello()"
      ]
    },
    {
      "cell_type": "markdown",
      "metadata": {
        "id": "fJmK1D8okge8"
      },
      "source": [
        "Что происходит?\n",
        "\n",
        "Над функцией hello находится декоратор counter, которая вызывается каждый раз, когда мы делаем вызов функции hello\n",
        "\n",
        "То есть вначале происходит вызов counter -> wrapper -> hello (который уже внутри)"
      ]
    },
    {
      "cell_type": "markdown",
      "metadata": {
        "id": "loqFKJQ9iimi"
      },
      "source": [
        "Зачем нужны декораторы?\n",
        "\n",
        "Во-первых, они помогают сделать некоторые дополнительные проверки. Например, если мы делаем функцию для вычисления чисел Фибоначчи, то нам нужно дополнительно проверять, что введенное число неотрицательное:"
      ]
    },
    {
      "cell_type": "code",
      "execution_count": null,
      "metadata": {
        "colab": {
          "base_uri": "https://localhost:8080/",
          "height": 524
        },
        "id": "5Yxews7Mj8j8",
        "outputId": "6a8da303-7504-47f2-e3e6-33f70ad60772"
      },
      "outputs": [
        {
          "name": "stdout",
          "output_type": "stream",
          "text": [
            "1 1\n",
            "2 2\n",
            "3 6\n",
            "4 24\n",
            "5 120\n",
            "6 720\n",
            "7 5040\n",
            "8 40320\n",
            "9 362880\n"
          ]
        },
        {
          "ename": "Exception",
          "evalue": "ignored",
          "output_type": "error",
          "traceback": [
            "\u001b[0;31m---------------------------------------------------------------------------\u001b[0m",
            "\u001b[0;31mException\u001b[0m                                 Traceback (most recent call last)",
            "\u001b[0;32m<ipython-input-1-efc282e663b2>\u001b[0m in \u001b[0;36m<cell line: 19>\u001b[0;34m()\u001b[0m\n\u001b[1;32m     17\u001b[0m         \u001b[0mprint\u001b[0m\u001b[0;34m(\u001b[0m\u001b[0mi\u001b[0m\u001b[0;34m,\u001b[0m \u001b[0mfactorial\u001b[0m\u001b[0;34m(\u001b[0m\u001b[0mi\u001b[0m\u001b[0;34m)\u001b[0m\u001b[0;34m)\u001b[0m\u001b[0;34m\u001b[0m\u001b[0;34m\u001b[0m\u001b[0m\n\u001b[1;32m     18\u001b[0m \u001b[0;34m\u001b[0m\u001b[0m\n\u001b[0;32m---> 19\u001b[0;31m \u001b[0mprint\u001b[0m\u001b[0;34m(\u001b[0m\u001b[0mfactorial\u001b[0m\u001b[0;34m(\u001b[0m\u001b[0;34m-\u001b[0m\u001b[0;36m1\u001b[0m\u001b[0;34m)\u001b[0m\u001b[0;34m)\u001b[0m\u001b[0;34m\u001b[0m\u001b[0;34m\u001b[0m\u001b[0m\n\u001b[0m",
            "\u001b[0;32m<ipython-input-1-efc282e663b2>\u001b[0m in \u001b[0;36mhelper\u001b[0;34m(x)\u001b[0m\n\u001b[1;32m      4\u001b[0m             \u001b[0;32mreturn\u001b[0m \u001b[0mf\u001b[0m\u001b[0;34m(\u001b[0m\u001b[0mx\u001b[0m\u001b[0;34m)\u001b[0m\u001b[0;34m\u001b[0m\u001b[0;34m\u001b[0m\u001b[0m\n\u001b[1;32m      5\u001b[0m         \u001b[0;32melse\u001b[0m\u001b[0;34m:\u001b[0m\u001b[0;34m\u001b[0m\u001b[0;34m\u001b[0m\u001b[0m\n\u001b[0;32m----> 6\u001b[0;31m             \u001b[0;32mraise\u001b[0m \u001b[0mException\u001b[0m\u001b[0;34m(\u001b[0m\u001b[0;34m\"Argument is not an integer\"\u001b[0m\u001b[0;34m)\u001b[0m \u001b[0;31m# Вызов ошибки\u001b[0m\u001b[0;34m\u001b[0m\u001b[0;34m\u001b[0m\u001b[0m\n\u001b[0m\u001b[1;32m      7\u001b[0m     \u001b[0;32mreturn\u001b[0m \u001b[0mhelper\u001b[0m\u001b[0;34m\u001b[0m\u001b[0;34m\u001b[0m\u001b[0m\n\u001b[1;32m      8\u001b[0m \u001b[0;34m\u001b[0m\u001b[0m\n",
            "\u001b[0;31mException\u001b[0m: Argument is not an integer"
          ]
        }
      ],
      "source": [
        "def argument_test_natural_number(f):\n",
        "    def helper(x):\n",
        "        if type(x) == int and x > 0:\n",
        "            return f(x)\n",
        "        else:\n",
        "            raise Exception(\"Argument is not an integer\") # Вызов ошибки\n",
        "    return helper\n",
        "\n",
        "@argument_test_natural_number\n",
        "def factorial(n):\n",
        "    if n == 1:\n",
        "        return 1\n",
        "    else:\n",
        "        return n * factorial(n-1)\n",
        "\n",
        "for i in range(1,10):\n",
        "\tprint(i, factorial(i))\n",
        "\n",
        "print(factorial(-1))"
      ]
    },
    {
      "cell_type": "markdown",
      "metadata": {
        "id": "VJwP-aMHjf35"
      },
      "source": [
        "Декораторы также достаточно часто использются в ООП (когда будем разговаривать про getters и setters), а также для того, чтобы, например, измерять время работа функции:"
      ]
    },
    {
      "cell_type": "code",
      "execution_count": null,
      "metadata": {
        "colab": {
          "base_uri": "https://localhost:8080/"
        },
        "id": "JmPGi9UGnXF2",
        "outputId": "af73d470-613f-445d-ac87-cc2b3857530d"
      },
      "outputs": [
        {
          "name": "stdout",
          "output_type": "stream",
          "text": [
            "func_fib ran in: 0.00011706352233886719 sec\n"
          ]
        },
        {
          "data": {
            "text/plain": [
              "222232244629420445529739893461909967206666939096499764990979600"
            ]
          },
          "execution_count": 7,
          "metadata": {},
          "output_type": "execute_result"
        }
      ],
      "source": [
        "import time\n",
        "\n",
        "def my_timer(f):\n",
        "    def wrapper(*args, **kwargs):\n",
        "        t_1 = time.time()\n",
        "        result = f(*args, **kwargs)\n",
        "        t_2 = time.time() - t_1\n",
        "        print(f'{f.__name__} ran in: {t_2} sec')\n",
        "        return result\n",
        "    return wrapper\n",
        "\n",
        "@my_timer\n",
        "def func_fib(n):\n",
        "    if n in (1, 2):\n",
        "        return 1\n",
        "    res = [0 for _ in range(n)]\n",
        "    res[0], res[1] = 1, 1\n",
        "    for i in range(2, n):\n",
        "        res[i] = res[i - 1] + res[i - 2]\n",
        "    return res[n - 1]\n",
        "\n",
        "func_fib(300)"
      ]
    },
    {
      "cell_type": "markdown",
      "metadata": {
        "id": "lSI-4DULoPi6"
      },
      "source": [
        "Также сам декоратор позволяет менять полученный результат. Допустим, что нам необходимо все ответы переводить в капс:"
      ]
    },
    {
      "cell_type": "code",
      "execution_count": null,
      "metadata": {
        "colab": {
          "base_uri": "https://localhost:8080/"
        },
        "id": "wxQQVjH-ofSD",
        "outputId": "2893ef91-7fc3-4710-e5bc-b85fd17f80dd"
      },
      "outputs": [
        {
          "name": "stdout",
          "output_type": "stream",
          "text": [
            "HELLO!\n",
            "HELLO, TIMUR\n",
            "Don't yell at me\n"
          ]
        }
      ],
      "source": [
        "def uppercase(f):\n",
        "    def wrapper(*args, **kwargs):\n",
        "        result = f(*args, **kwargs)\n",
        "        return result.upper()\n",
        "    return wrapper\n",
        "\n",
        "@uppercase\n",
        "def hello():\n",
        "    return \"Hello!\"\n",
        "\n",
        "@uppercase\n",
        "def hello_name(name):\n",
        "    return \"Hello, \" + name\n",
        "\n",
        "print(hello())\n",
        "print(hello_name(\"Timur\"))\n",
        "print(\"Don't yell at me\")"
      ]
    }
  ],
  "metadata": {
    "colab": {
      "provenance": []
    },
    "kernelspec": {
      "display_name": "Python 3",
      "name": "python3"
    },
    "language_info": {
      "codemirror_mode": {
        "name": "ipython",
        "version": 3
      },
      "file_extension": ".py",
      "mimetype": "text/x-python",
      "name": "python",
      "nbconvert_exporter": "python",
      "pygments_lexer": "ipython3",
      "version": "3.12.6"
    }
  },
  "nbformat": 4,
  "nbformat_minor": 0
}
